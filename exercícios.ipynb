{
  "nbformat": 4,
  "nbformat_minor": 0,
  "metadata": {
    "colab": {
      "name": "Parte 1 - Curso USP.ipynb",
      "provenance": [],
      "collapsed_sections": [
        "vOcPP3BkDj9w",
        "mgNGltNwEOKh",
        "_q2cae59EWM3"
      ],
      "toc_visible": true
    },
    "kernelspec": {
      "name": "python3",
      "display_name": "Python 3"
    }
  },
  "cells": [
    {
      "cell_type": "markdown",
      "metadata": {
        "id": "vOcPP3BkDj9w"
      },
      "source": [
        "# Operadores Matemáticos\n",
        "\n",
        "---\n",
        "\n"
      ]
    },
    {
      "cell_type": "markdown",
      "metadata": {
        "id": "NHyFmf_797m9"
      },
      "source": [
        "###Operadores Matemáticos"
      ]
    },
    {
      "cell_type": "code",
      "metadata": {
        "id": "nr8RDKpYLyMv",
        "colab": {
          "base_uri": "https://localhost:8080/"
        },
        "outputId": "412776e9-5322-4049-f311-cfcddc04520b"
      },
      "source": [
        "a = 10\n",
        "b = 3\n",
        "\n",
        "# Soma\n",
        "print(\"Soma: \", a + b)\n",
        "\n",
        "# Subtração\n",
        "print(\"Subtração: \", a - b)\n",
        "\n",
        "# Multiplicação\n",
        "print(\"Multiplicação: \", a * b)\n",
        "\n",
        "# Divisão / Divisão Inteira\n",
        "print(\"Divisão: \", a / b)\n",
        "print(\"Divisão Inteira: \", a // b)\n",
        "\n",
        "# Potência\n",
        "print(\"Potência: \", a ** b)\n",
        "\n",
        "# Resto da Divisão\n",
        "print(\"Resto da Divisão: \", a % b)"
      ],
      "execution_count": null,
      "outputs": [
        {
          "output_type": "stream",
          "text": [
            "Soma:  13\n",
            "Subtração:  7\n",
            "Multiplicação:  30\n",
            "Divisão:  3.3333333333333335\n",
            "Divisão Inteira:  3\n",
            "Potência:  1000\n",
            "Resto da Divisão:  1\n"
          ],
          "name": "stdout"
        }
      ]
    },
    {
      "cell_type": "markdown",
      "metadata": {
        "id": "OKkKF3_Z9_YS"
      },
      "source": [
        "###Operadores Lógicos e Comparadores"
      ]
    },
    {
      "cell_type": "code",
      "metadata": {
        "id": "M6RAU2dTDhfJ"
      },
      "source": [
        "a = 10\n",
        "b = 20\n",
        "c = 5\n",
        "\n",
        "# Igual / Maior / Menor\n",
        "print(\"\\nA é igual a B: \", a == b)\n",
        "print(\"A é maior que B: \",a >= b)\n",
        "print(\"A é menor que B: \", a <= b)\n",
        "\n",
        "print(\"\\nA é igual a B e A é menor que C: \", a == b and a < c)\n",
        "print(\"B é maior a A e B é igual que C: \", b > a and b == c)\n",
        "print(\"A é menor a B e B é maior que C: \", a < b and b > c)"
      ],
      "execution_count": null,
      "outputs": []
    },
    {
      "cell_type": "markdown",
      "metadata": {
        "id": "mgNGltNwEOKh"
      },
      "source": [
        "# Tipos de Dados\n",
        "\n",
        "---\n",
        "\n"
      ]
    },
    {
      "cell_type": "markdown",
      "metadata": {
        "id": "7TNwDCzp-IVc"
      },
      "source": [
        "###Tipos e Conversão de Variáveis"
      ]
    },
    {
      "cell_type": "code",
      "metadata": {
        "id": "a6nyHcpHMVrp"
      },
      "source": [
        "# Tipos de Variáveis\n",
        "print(type(10))\n",
        "print(type(1.2))\n",
        "print(type(\"Olá\"))\n",
        "\n",
        "# Conversão de Variável\n",
        "a = 25.5\n",
        "b = int(a)\n",
        "\n",
        "print()\n",
        "print(a)\n",
        "print(b)"
      ],
      "execution_count": null,
      "outputs": []
    },
    {
      "cell_type": "markdown",
      "metadata": {
        "id": "w9M8QHwR-Oat"
      },
      "source": [
        "### Contagem de Caractéres"
      ]
    },
    {
      "cell_type": "code",
      "metadata": {
        "id": "beC5NEDOF7j2"
      },
      "source": [
        "a = \"Fabricio\"\n",
        "b = 3.14159\n",
        "\n",
        "print()\n",
        "print(len(a))\n",
        "      # não pode usar o \"len\" para float ou int\n",
        "      # tem que converter\n",
        "\n",
        "b = str(b)\n",
        "print(len(b))"
      ],
      "execution_count": null,
      "outputs": []
    },
    {
      "cell_type": "markdown",
      "metadata": {
        "id": "_q2cae59EWM3"
      },
      "source": [
        "# Entrada de Dados\n",
        "\n",
        "---\n",
        "\n"
      ]
    },
    {
      "cell_type": "markdown",
      "metadata": {
        "id": "89wzMnLt_IVV"
      },
      "source": [
        "###Exemplos"
      ]
    },
    {
      "cell_type": "markdown",
      "metadata": {
        "id": "CnyZNPkk-VLq"
      },
      "source": [
        "######Conversão Celsius / Fahrenheint"
      ]
    },
    {
      "cell_type": "code",
      "metadata": {
        "id": "VAyRYz3vExzp"
      },
      "source": [
        "tempFah = input(\"\\nDigite uma temperatura em Fahrenheit: \")\n",
        "tempFah = float(tempFah)\n",
        "      # pode converter direto na linha do input\n",
        "tempCel = (tempFah - 32) * 5 / 9\n",
        "\n",
        "print(\"A temperatura em Celsius é:\", tempCel)"
      ],
      "execution_count": null,
      "outputs": []
    },
    {
      "cell_type": "markdown",
      "metadata": {
        "id": "2724areE-Zuu"
      },
      "source": [
        "######Nome e Idade"
      ]
    },
    {
      "cell_type": "code",
      "metadata": {
        "id": "LgTk7p99F-dl"
      },
      "source": [
        "nome = input(\"\\nNome: \")\n",
        "idade = int(input(\"Idade: \"))\n",
        "\n",
        "print(\"Seu nome é\", nome, \"e você tem\", idade, \"anos.\")"
      ],
      "execution_count": null,
      "outputs": []
    },
    {
      "cell_type": "markdown",
      "metadata": {
        "id": "IUSMMICI-eyl"
      },
      "source": [
        "######Conversão Segundos"
      ]
    },
    {
      "cell_type": "code",
      "metadata": {
        "id": "V3kjl4HDGAQQ"
      },
      "source": [
        "segundos_str = input(\"\\nInsira a quantidade de segundos que deseja converter: \")\n",
        "total_segs = int(segundos_str)\n",
        "\n",
        "horas = total_segs // 3600\n",
        "dias = horas // 24\n",
        "horas_total = horas % 24\n",
        "segs_restantes = total_segs % 3600\n",
        "minutos = segs_restantes // 60\n",
        "segs_restantes_final = segs_restantes % 60\n",
        "\n",
        "print(dias, \"dias,\", horas_total, \"horas,\", minutos, \"minutos e\", segs_restantes_final, \"segundos\")"
      ],
      "execution_count": null,
      "outputs": []
    },
    {
      "cell_type": "markdown",
      "metadata": {
        "id": "pADC3zJ--z0m"
      },
      "source": [
        "###### Área e Perimetro de um Quadrado"
      ]
    },
    {
      "cell_type": "code",
      "metadata": {
        "id": "MeP8pNYxGRlc"
      },
      "source": [
        "lado = int(input(\"Digite o valor de um lado do quadrado: \"))\n",
        "\n",
        "area = lado * lado\n",
        "perimetro = lado * 4 # coloquei x4 porque é um quadrado, se fosse outra forma, seria outra fórmula\n",
        "\n",
        "print(\"Lado:\", lado)\n",
        "print(\"Área:\", area)\n",
        "print(\"Perimetro:\", perimetro)"
      ],
      "execution_count": null,
      "outputs": []
    },
    {
      "cell_type": "markdown",
      "metadata": {
        "id": "ivVaqkYg_N96"
      },
      "source": [
        "###### Média Aritmética das Notas"
      ]
    },
    {
      "cell_type": "code",
      "metadata": {
        "id": "JDaZZtODIHAz"
      },
      "source": [
        "nota1 = int(input(\"Digite a nota 1: \"))\n",
        "nota2 = int(input(\"Digite a nota 2: \"))\n",
        "nota3 = int(input(\"Digite a nota 3: \"))\n",
        "nota4 = int(input(\"Digite a nota 4: \"))\n",
        "\n",
        "media = (nota1 + nota2 + nota3 + nota4) / 4\n",
        "\n",
        "print(\"A médias das notas digitadas é:\", media)"
      ],
      "execution_count": null,
      "outputs": []
    },
    {
      "cell_type": "markdown",
      "metadata": {
        "id": "OKhRmwip_RAd"
      },
      "source": [
        "###### Fatura de Pagamento"
      ]
    },
    {
      "cell_type": "code",
      "metadata": {
        "id": "loKS41KhW98D"
      },
      "source": [
        "nome = input(\"Digite seu nome: \")\n",
        "dia_vencimento = int(input(\"Qual o dia do vencimento: \"))\n",
        "mes_vencimento = input(\"Qual mês de vencimento: \")\n",
        "valor = input(\"QUal o valor: \")\n",
        "\n",
        "print(\"\\nOlá,\", nome)\n",
        "print(\"Sua fatura com vencimento em\", dia_vencimento, \"de\", mes_vencimento, \" no valor de R$\", valor, \"está fechada.\")"
      ],
      "execution_count": null,
      "outputs": []
    },
    {
      "cell_type": "markdown",
      "metadata": {
        "id": "xroj7_TH_TZT"
      },
      "source": [
        "###### Dígito das Dezenas"
      ]
    },
    {
      "cell_type": "code",
      "metadata": {
        "id": "RVndxYYiZlc1"
      },
      "source": [
        "num = int(input(\"Digite um número: \"))\n",
        "\n",
        "dezena = num // 10 # faz a divisão sem contar o resto\n",
        "\n",
        "while dezena >= 10:\n",
        "  dezena = dezena % 10\n",
        "\n",
        "print(\"O número da dezena é:\", dezena)"
      ],
      "execution_count": null,
      "outputs": []
    },
    {
      "cell_type": "markdown",
      "metadata": {
        "id": "B7ywU2DZhC9_"
      },
      "source": [
        "# Expressões Booleanas \n",
        "Comparadores / Condicionais\n",
        "\n",
        "---\n",
        "\n"
      ]
    },
    {
      "cell_type": "markdown",
      "metadata": {
        "id": "-QfaaDdpAE1Z"
      },
      "source": [
        "###Valores Booleanos (true / false) e Comparadores (and / or / not)"
      ]
    },
    {
      "cell_type": "code",
      "metadata": {
        "id": "sL2EO9jIhaZL"
      },
      "source": [
        "# Teste\n",
        "print(1 < 2)\n",
        "print(5 > 3 and 1 > 10)\n",
        "print(5 > 3 or 1 > 10)\n",
        "print(not 1 < 2) # se o inverso for verdade, é true\n",
        "print(\"\")\n",
        "\n",
        "print(type(True))\n",
        "print(type(False))\n",
        "print(\"\")\n",
        "\n",
        "# Exemplos\n",
        "sol = True\n",
        "feriado = False\n",
        "vouParaPraia = sol and feriado\n",
        "print(vouParaPraia)\n",
        "\n",
        "paitrocinio = False\n",
        "promocao = True\n",
        "vouParaShow = paitrocinio or promocao\n",
        "print(vouParaShow)\n",
        "\n",
        "print(\"\")\n",
        "\n",
        "y = 50\n",
        "x = 10\n",
        "((x > 0) and (not y == 50)) or (x + y == 150)\n",
        "  # ordem de execução, ele executa primeiro o \"not\", depois o \"and\" e depois o \"or\""
      ],
      "execution_count": null,
      "outputs": []
    },
    {
      "cell_type": "markdown",
      "metadata": {
        "id": "j2G0s1Gm_-1i"
      },
      "source": [
        "###Execução Condicional"
      ]
    },
    {
      "cell_type": "code",
      "metadata": {
        "id": "Kao2OsPNDvWN"
      },
      "source": [
        "# Teste\n",
        "temperatura = 102\n",
        "\n",
        "if temperatura > 100:\n",
        "  aguaFerve = True\n",
        "  evaporacao = \"muito rápido\"\n",
        "\n",
        "print(aguaFerve)\n",
        "print(evaporacao)\n",
        "print(\"\")\n",
        "\n",
        "# Exemplo\n",
        "tempoDeJogo = int(input(\"Quanto tempo temos de jogo: \"))\n",
        "\n",
        "if tempoDeJogo <= 90:\n",
        "  print(\"Ainda tem jogo pela frente!\")\n",
        "  print(\"Que bom, adoro futebol!\")\n",
        "else:\n",
        "  print(\"Putz, tá acabando o jogo...\")"
      ],
      "execution_count": null,
      "outputs": []
    },
    {
      "cell_type": "markdown",
      "metadata": {
        "id": "J4faXGC6_5DK"
      },
      "source": [
        "###Desafio - Báskhara"
      ]
    },
    {
      "cell_type": "code",
      "metadata": {
        "id": "vh0gNCRuFx1j"
      },
      "source": [
        "import math # importando a biblioteca\n",
        "\n",
        "a = int(input(\"Digite o valor de A: \"))\n",
        "b = int(input(\"Digite o valor de B: \"))\n",
        "c = int(input(\"Digite o valor de C: \"))\n",
        "\n",
        "delta = (b ** 2) - 4 * a * c\n",
        "if delta > 0:\n",
        "  x1 = (- b + math.sqrt(delta)) / (2 * a)\n",
        "  x2 = (- b - math.sqrt(delta)) / (2 * a)\n",
        "\n",
        "  print(\"\\nResultado\")\n",
        "  print(\"A:\", a, \"\\nB:\", b, \"\\nC:\", c)\n",
        "  print(\"Delta:\", delta)\n",
        "  print(\"Raíz 1:\", x1, \"\\nRaíz 2:\", x2)\n",
        "elif delta == 0:\n",
        "  x1 = (- b + math.sqrt(delta)) / (2 * a)\n",
        "\n",
        "  print(\"\\n- Resultado:\")\n",
        "  print(\"A:\", a, \"\\nB:\", b, \"\\nC:\", c)\n",
        "  print(\"Delta:\", delta)\n",
        "  print(\"Raíz 1:\", x1)\n",
        "  print(\"\\nNa equação onde o delta é igual à 0, as raízes são iguais ou existe apenas uma.\")\n",
        "else:\n",
        "  print(\"Com o delta negativo, não tem como realizar a operação.\")"
      ],
      "execution_count": null,
      "outputs": []
    },
    {
      "cell_type": "code",
      "metadata": {
        "colab": {
          "base_uri": "https://localhost:8080/"
        },
        "id": "tgwzzQSjyr5-",
        "outputId": "6eb100b1-1465-49d7-a07f-1bbdb801f20c"
      },
      "source": [
        "a = \"aaa\"\n",
        "type(a)"
      ],
      "execution_count": null,
      "outputs": [
        {
          "output_type": "execute_result",
          "data": {
            "text/plain": [
              "str"
            ]
          },
          "metadata": {
            "tags": []
          },
          "execution_count": 3
        }
      ]
    },
    {
      "cell_type": "markdown",
      "metadata": {
        "id": "lsFFXESx_gwG"
      },
      "source": [
        "###Exercícios"
      ]
    },
    {
      "cell_type": "markdown",
      "metadata": {
        "id": "ieQfMH-K_j1I"
      },
      "source": [
        "######Par ou Ímpar"
      ]
    },
    {
      "cell_type": "code",
      "metadata": {
        "colab": {
          "base_uri": "https://localhost:8080/"
        },
        "id": "jVGs0QDWMPHn",
        "outputId": "e5c63951-72f3-48b2-9588-233f84ee3b12"
      },
      "source": [
        "num = int(input(\"Digite um número: \"))\n",
        "\n",
        "if num % 2 == 0:\n",
        "  print(\"O número digitado é par!\")\n",
        "else:\n",
        "  print(\"O número digitado é ímpar!\")"
      ],
      "execution_count": null,
      "outputs": [
        {
          "output_type": "stream",
          "text": [
            "Digite um número: 3\n",
            "O número digitado é impar!\n"
          ],
          "name": "stdout"
        }
      ]
    },
    {
      "cell_type": "markdown",
      "metadata": {
        "id": "yn3LpHI2_oFG"
      },
      "source": [
        "######FizzBuzz Parcial - Parte 1"
      ]
    },
    {
      "cell_type": "code",
      "metadata": {
        "colab": {
          "base_uri": "https://localhost:8080/"
        },
        "id": "N49a99nmMTuC",
        "outputId": "9f1c8ebc-ad22-4009-8b35-a30f00130c15"
      },
      "source": [
        "num = int(input(\"Digite um número: \"))\n",
        "\n",
        "if num % 3 == 0:\n",
        "  print(\"**FIZZ**\")\n",
        "else:\n",
        "  print(num)"
      ],
      "execution_count": null,
      "outputs": [
        {
          "output_type": "stream",
          "text": [
            "Digite um número: 9\n",
            "**FIZZ**\n"
          ],
          "name": "stdout"
        }
      ]
    },
    {
      "cell_type": "markdown",
      "metadata": {
        "id": "qEH8sxfb_u4m"
      },
      "source": [
        "######FizzBuzz Parcial - Parte 2"
      ]
    },
    {
      "cell_type": "code",
      "metadata": {
        "colab": {
          "base_uri": "https://localhost:8080/"
        },
        "id": "yXBjwvnFMbTN",
        "outputId": "f7471c2c-6402-4c7f-a876-9b2cdfffef39"
      },
      "source": [
        "num = int(input(\"Digite um número: \"))\n",
        "\n",
        "if num % 5 == 0:\n",
        "  print(\"**BUZZ**\")\n",
        "else:\n",
        "  print(num)"
      ],
      "execution_count": null,
      "outputs": [
        {
          "output_type": "stream",
          "text": [
            "Digite um número: 100\n",
            "**FIZZ**\n"
          ],
          "name": "stdout"
        }
      ]
    },
    {
      "cell_type": "markdown",
      "metadata": {
        "id": "zsE-2baj_w8g"
      },
      "source": [
        "######FizzBuzz Parcial - Parte 3"
      ]
    },
    {
      "cell_type": "code",
      "metadata": {
        "colab": {
          "base_uri": "https://localhost:8080/"
        },
        "id": "Wrt9o5XpMf7s",
        "outputId": "bf68f93e-38b5-4bc1-db55-a44840b1c945"
      },
      "source": [
        "num = int(input(\"Digite um número: \"))\n",
        "\n",
        "if (num % 3 == 0) and (num % 5 == 0):\n",
        "  print(\"**FIZZBUZZ**\")\n",
        "else:\n",
        "  print(num)"
      ],
      "execution_count": null,
      "outputs": [
        {
          "output_type": "stream",
          "text": [
            "Digite um número: 28\n",
            "28\n"
          ],
          "name": "stdout"
        }
      ]
    },
    {
      "cell_type": "markdown",
      "metadata": {
        "id": "JWMqrDxr_y-m"
      },
      "source": [
        "######Verificando Ordenação"
      ]
    },
    {
      "cell_type": "code",
      "metadata": {
        "id": "Co0qqnuXMhuX"
      },
      "source": [
        "a = int(input(\"Digite o primeiro valor: \"))\n",
        "b = int(input(\"Digite o segundo valor: \"))\n",
        "c = int(input(\"Digite o terceiro valor: \"))\n",
        "\n",
        "if (a < b and a < c) and (b < c):\n",
        "  print(\"\\nEstão em ordem crescente!\")\n",
        "else:\n",
        "  print(\"\\nNão estão em ordem crescente.\")"
      ],
      "execution_count": null,
      "outputs": []
    },
    {
      "cell_type": "markdown",
      "metadata": {
        "id": "TNAhHddUruHG"
      },
      "source": [
        "# Laços de Repetição\n",
        "While\n",
        "\n",
        "---\n",
        "\n"
      ]
    },
    {
      "cell_type": "markdown",
      "metadata": {
        "id": "etg-HwBuAKec"
      },
      "source": [
        "###Potência"
      ]
    },
    {
      "cell_type": "code",
      "metadata": {
        "id": "9LIYHsnErzkU"
      },
      "source": [
        "print(2 ** 0)\n",
        "print(2 ** 1)\n",
        "print(2 ** 2)\n",
        "print(2 ** 3)\n",
        "print(2 ** 4)\n",
        "print(2 ** 5)\n",
        "print()\n",
        "\n",
        "i = 0\n",
        "while i <= 5:\n",
        "  print(2 ** i)\n",
        "  i = i + 1"
      ],
      "execution_count": null,
      "outputs": []
    },
    {
      "cell_type": "markdown",
      "metadata": {
        "id": "czqifR5GAN-d"
      },
      "source": [
        "###Soma"
      ]
    },
    {
      "cell_type": "code",
      "metadata": {
        "id": "tsnrBAKMtGHI"
      },
      "source": [
        "limite = int(input(\"Quantos valores serão somados?\\n\"))\n",
        "print()\n",
        "soma = 0\n",
        "\n",
        "i = 1\n",
        "while i <= limite:\n",
        "  valor = int(input(\"Valor: \"))\n",
        "  soma = soma + valor\n",
        "  i += 1\n",
        "\n",
        "print(\"\\nA soma é:\", soma)"
      ],
      "execution_count": null,
      "outputs": []
    },
    {
      "cell_type": "markdown",
      "metadata": {
        "id": "SY9RX03VAQ8O"
      },
      "source": [
        "###Laços de Repetição com Variáveis Booleanas"
      ]
    },
    {
      "cell_type": "code",
      "metadata": {
        "colab": {
          "base_uri": "https://localhost:8080/"
        },
        "id": "7BjjnBNLxhOY",
        "outputId": "d411b403-1e48-4b73-9234-d69ecf02bf24"
      },
      "source": [
        "decrescente = True\n",
        "anterior = int(input(\"Digite o primeiro número da sequência: \"))\n",
        "valor = 1\n",
        "\n",
        "while valor != 0 and decrescente: # enquanto o decrescente for True e o valor for diferente de 0, o while vai continuar executando\n",
        "  valor = int(input(\"Digite o próximo número da sequência: \"))\n",
        "\n",
        "  if valor > anterior:\n",
        "    decrescente = False\n",
        "  \n",
        "  anterior = valor\n",
        "\n",
        "if decrescente: # se decrescente for True\n",
        "  print(\"\\nA sequência está em ordem decrescente!\")\n",
        "else:\n",
        "  print(\"\\nA sequência não está em ordem decrescente.\")\n",
        "\n",
        "# sempre que eu me referir a uma variavel em que o valor inicial for igual ao da condição, não precisa especificar\n",
        "# como nos casos usados nos laços de repetição"
      ],
      "execution_count": null,
      "outputs": [
        {
          "output_type": "stream",
          "text": [
            "Digite o primeiro número da sequência: 9\n",
            "Digite o próximo número da sequência: 5\n",
            "Digite o próximo número da sequência: 2\n",
            "Digite o próximo número da sequência: 3\n",
            "\n",
            "A sequência não está em ordem decrescente.\n"
          ],
          "name": "stdout"
        }
      ]
    },
    {
      "cell_type": "markdown",
      "metadata": {
        "id": "A7Cm3-7WAYuT"
      },
      "source": [
        "###Exemplos"
      ]
    },
    {
      "cell_type": "markdown",
      "metadata": {
        "id": "8DPAokPDAeT4"
      },
      "source": [
        "######Cartão de Crédito"
      ]
    },
    {
      "cell_type": "code",
      "metadata": {
        "id": "6wLK6NKN1PWl"
      },
      "source": [
        "meuCartão = int(input(\"Digite o número do seu cartão de crédito: \"))\n",
        "cartãoLido = 1\n",
        "encontreMeuCartãoNaLista = False\n",
        "\n",
        "while cartãoLido != 0 and not encontreMeuCartãoNaLista: # not encontreMeuCartãoNaLista -> encontreMeuCartãoNaLista = True\n",
        "  cartãoLido = int(input(\"Digite o número do próximo cartão de crédito: \"))\n",
        "\n",
        "  if cartãoLido == meuCartão:\n",
        "    encontreMeuCartãoNaLista = True\n",
        "\n",
        "if encontreMeuCartãoNaLista:\n",
        "  print(\"\\nAee! Meu cartão está na lista!\")\n",
        "else:\n",
        "  print(\"\\nXiih! Meu cartão não está na lista...\")"
      ],
      "execution_count": null,
      "outputs": []
    },
    {
      "cell_type": "markdown",
      "metadata": {
        "id": "QXRWEytZAid6"
      },
      "source": [
        "######Números Adjacentes Iguais - Pego na Internet"
      ]
    },
    {
      "cell_type": "code",
      "metadata": {
        "id": "ojUZ4Vvx2vLK",
        "colab": {
          "base_uri": "https://localhost:8080/"
        },
        "outputId": "1e870085-382d-448b-a58a-fc3ec32a590a"
      },
      "source": [
        "n = int(input(\"Digite um numero: \"))\n",
        "n_salvo = n\n",
        "\n",
        "anterior = n % 10\n",
        "n = n // 10;\n",
        "adj_iguais = False;\n",
        "pos = 0\n",
        "\n",
        "while n > 0 and not adj_iguais:\n",
        "    atual = n % 10\n",
        "\n",
        "    if atual == anterior:\n",
        "        adj_iguais = True\n",
        "    else:\n",
        "        pos += 1\n",
        "\n",
        "    anterior = atual\n",
        "    n = n // 10\n",
        "\n",
        "if adj_iguais:\n",
        "    print(n_salvo, \"tem dois digitos\", atual, \"adjacentes\")\n",
        "else:\n",
        "    print(n_salvo, \"nao tem digitos iguais adjacentes\")"
      ],
      "execution_count": null,
      "outputs": [
        {
          "output_type": "stream",
          "text": [
            "Digite um numero: 1233\n",
            "1233 tem dois digitos 3 adjacentes\n"
          ],
          "name": "stdout"
        }
      ]
    },
    {
      "cell_type": "markdown",
      "metadata": {
        "id": "Sb99ni9OApu-"
      },
      "source": [
        "######Fatorial"
      ]
    },
    {
      "cell_type": "code",
      "metadata": {
        "colab": {
          "base_uri": "https://localhost:8080/"
        },
        "id": "nG7TfMSEiRhW",
        "outputId": "56ca8fe8-58f5-4d67-ed25-275637795a19"
      },
      "source": [
        "num = int(input(\"Digite um número: \"))\n",
        "num_inicial = num\n",
        "fat = 1\n",
        "\n",
        "while num > 1:\n",
        "  fat = fat * num\n",
        "  num = num - 1\n",
        "\n",
        "print(\"O fatorial de\", num_inicial, \"é:\", fat)"
      ],
      "execution_count": null,
      "outputs": [
        {
          "output_type": "stream",
          "text": [
            "Digite um número: 3\n",
            "O fatorial de 3 é: 6\n"
          ],
          "name": "stdout"
        }
      ]
    },
    {
      "cell_type": "markdown",
      "metadata": {
        "id": "X-ogh7UGAtpo"
      },
      "source": [
        "######Ímpares"
      ]
    },
    {
      "cell_type": "code",
      "metadata": {
        "colab": {
          "base_uri": "https://localhost:8080/"
        },
        "id": "vMq0MX67lhzU",
        "outputId": "331c072b-0f38-4f28-fa26-8cde6b5edf2e"
      },
      "source": [
        "num = int(input(\"Digite um número: \"))\n",
        "num_vetor = 1\n",
        "impar = []\n",
        "\n",
        "while num > 0:\n",
        "  impar.append(num_vetor)\n",
        "  \n",
        "  num_vetor += 2\n",
        "  num -= 1\n",
        "\n",
        "for i in reversed(impar):\n",
        "  print(i)"
      ],
      "execution_count": null,
      "outputs": [
        {
          "output_type": "stream",
          "text": [
            "Digite um número: 5\n",
            "9\n",
            "7\n",
            "5\n",
            "3\n",
            "1\n"
          ],
          "name": "stdout"
        }
      ]
    },
    {
      "cell_type": "markdown",
      "metadata": {
        "id": "RZufMpyqAwvR"
      },
      "source": [
        "######Soma dos Números"
      ]
    },
    {
      "cell_type": "code",
      "metadata": {
        "colab": {
          "base_uri": "https://localhost:8080/"
        },
        "id": "Glacni7lnvSs",
        "outputId": "1d71ee18-bdd8-445a-f5cf-03f40c75b208"
      },
      "source": [
        "n = int(input(\"Digite um número inteiro: \"))\n",
        "soma = 0\n",
        "\n",
        "print(n)\n",
        "\n",
        "while n > 0:\n",
        "  i = n % 10\n",
        "  while i >= 10:\n",
        "    i = i % n\n",
        "\n",
        "  n //= 10\n",
        "  soma += i\n",
        "\n",
        "print(soma)"
      ],
      "execution_count": null,
      "outputs": [
        {
          "output_type": "stream",
          "text": [
            "Digite um número inteiro: 1235\n",
            "1235\n",
            "11\n"
          ],
          "name": "stdout"
        }
      ]
    },
    {
      "cell_type": "markdown",
      "metadata": {
        "id": "zpVG5kxgA0nv"
      },
      "source": [
        "######Número Primo"
      ]
    },
    {
      "cell_type": "code",
      "metadata": {
        "colab": {
          "base_uri": "https://localhost:8080/"
        },
        "id": "RiAJHGVxwsh2",
        "outputId": "98afe5fb-1971-46eb-d2fa-7fe91b61d90c"
      },
      "source": [
        "num = int(input(\"Digite um número inteiro: \"))\n",
        "i = 1\n",
        "cont = 0\n",
        "\n",
        "while i <= num:\n",
        "  if num % i == 0:\n",
        "    cont += 1\n",
        "\n",
        "  i += 1\n",
        "\n",
        "if cont == 2:\n",
        "  print(\"Primo\")\n",
        "else:\n",
        "  print(\"Não primo\")"
      ],
      "execution_count": null,
      "outputs": [
        {
          "output_type": "stream",
          "text": [
            "Digite um número inteiro: 10\n",
            "Não primo\n"
          ],
          "name": "stdout"
        }
      ]
    },
    {
      "cell_type": "markdown",
      "metadata": {
        "id": "2qfJZMadzNnw"
      },
      "source": [
        "# Funções\n",
        "\n",
        "---\n",
        "\n"
      ]
    },
    {
      "cell_type": "markdown",
      "metadata": {
        "id": "JQhrbqTIA-o8"
      },
      "source": [
        "###Declarando Funções / Subrotinas"
      ]
    },
    {
      "cell_type": "code",
      "metadata": {
        "colab": {
          "base_uri": "https://localhost:8080/"
        },
        "id": "Kddis-uXzRLn",
        "outputId": "071f57d7-183a-4ced-d10e-5377aeba03fb"
      },
      "source": [
        "def soma(x, y): # def -> estou \"definindo\" uma função\n",
        "  return x + y\n",
        "\n",
        "def mult(x, y):\n",
        "  return x * y\n",
        "\n",
        "def nome_time():\n",
        "  return \"SPFC\"\n",
        "\n",
        "def meu_nome():\n",
        "  print(\"Meu nome é Fabrício\")\n",
        "\n",
        "x = int(input(\"Digite o primeiro número: \"))\n",
        "y = int(input(\"Digite o segundo número: \"))\n",
        "\n",
        "print(\"\\nA soma é\", soma(x, y))\n",
        "print(\"A soma é\", soma(x + y, y))\n",
        "print(\"A soma é\", soma(x, soma(x, y)))\n",
        "\n",
        "print(\"\\nA multiplicação é\", mult(x, y))\n",
        "print(\"A multiplicação é\", mult(soma(x, x), mult(y, y)))\n",
        "\n",
        "print(\"\\nO nome do meu time é\", nome_time())\n",
        "\n",
        "meu_nome()"
      ],
      "execution_count": null,
      "outputs": [
        {
          "output_type": "stream",
          "text": [
            "Digite o primeiro número: 10\n",
            "Digite o segundo número: 5\n",
            "\n",
            "A soma é 15\n",
            "A soma é 20\n",
            "A soma é 25\n",
            "\n",
            "A multiplicação é 50\n",
            "A multiplicação é 500\n",
            "\n",
            "O nome do meu time é SPFC\n",
            "Meu nome é Fabrício\n"
          ],
          "name": "stdout"
        }
      ]
    },
    {
      "cell_type": "markdown",
      "metadata": {
        "id": "2HmnorMBBECT"
      },
      "source": [
        "###Coeficiênte Binomial"
      ]
    },
    {
      "cell_type": "code",
      "metadata": {
        "colab": {
          "base_uri": "https://localhost:8080/"
        },
        "id": "krDqy8ZJOPX0",
        "outputId": "b9b8d23b-c8eb-4b13-aeb0-ac3754795111"
      },
      "source": [
        "def fatorial(n):\n",
        "  fat = 1\n",
        "\n",
        "  while (n > 1):\n",
        "    fat = fat * n\n",
        "    n -= 1\n",
        "\n",
        "  return fat\n",
        "\n",
        "def num_binomial(n, k):\n",
        "  return fatorial(n) // (fatorial(k) * fatorial(n - k))\n",
        "\n",
        "def testa_fatorial():\n",
        "  if fatorial(0) == 1:\n",
        "    print(\"Funciona para 0\")\n",
        "\n",
        "  if fatorial(1) == 1:\n",
        "    print(\"Funciona para 1\")\n",
        "\n",
        "  if fatorial(2) == 2:\n",
        "    print(\"Funciona para 2\")\n",
        "\n",
        "  if fatorial(3) == 6:\n",
        "    print(\"Funciona para 3\")\n",
        "\n",
        "\n",
        "testa_fatorial()\n",
        "\n",
        "num1 = int(input(\"\\nDigite o primeiro número: \"))\n",
        "num2 = int(input(\"Digite o segundo número: \"))\n",
        "\n",
        "num_binomial(num1, num2)"
      ],
      "execution_count": null,
      "outputs": [
        {
          "output_type": "stream",
          "text": [
            "Funciona para 0\n",
            "Funciona para 1\n",
            "Funciona para 2\n",
            "Funciona para 3\n",
            "\n",
            "Digite o primeiro número: 20\n",
            "Digite o segundo número: 10\n"
          ],
          "name": "stdout"
        },
        {
          "output_type": "execute_result",
          "data": {
            "text/plain": [
              "184756"
            ]
          },
          "metadata": {
            "tags": []
          },
          "execution_count": 7
        }
      ]
    },
    {
      "cell_type": "markdown",
      "metadata": {
        "id": "0YS5dd1WBHUH"
      },
      "source": [
        "###Desafio - Equação 2º Grau (Funções)"
      ]
    },
    {
      "cell_type": "code",
      "metadata": {
        "id": "vXLmL_Q33nsa",
        "colab": {
          "base_uri": "https://localhost:8080/"
        },
        "outputId": "b6a89433-ef7c-4ae2-e233-16b7d7f840d2"
      },
      "source": [
        "import math # importando a biblioteca\n",
        "\n",
        "# Funções\n",
        "def fun_delta(a, b, c):\n",
        "  delta = (b ** 2) - 4 * a * c\n",
        "  return delta\n",
        "\n",
        "def raizes_x1(a, b, delta):\n",
        "  if delta >= 0:\n",
        "    x1 = (- b + math.sqrt(delta)) / (2 * a)\n",
        "    return x1\n",
        "  else:\n",
        "    x1 = 0\n",
        "    return x1\n",
        "\n",
        "def raizes_x2(a, b, delta):\n",
        "  if delta > 0:\n",
        "    x2 = (- b - math.sqrt(delta)) / (2 * a)\n",
        "    return x2\n",
        "  else:\n",
        "    x2 = 0\n",
        "    return x2\n",
        "\n",
        "def imprime(a, b, c, delta, x1, x2):\n",
        "  if delta > 0:\n",
        "    print(\"\\nResultado...\")\n",
        "    print(\"A:\", a, \"\\nB:\", b, \"\\nC:\", c)\n",
        "    print(\"Delta:\", delta)\n",
        "    print(\"Raíz 1:\", x1, \"\\nRaíz 2:\", x2)\n",
        "  elif delta == 0:\n",
        "    print(\"\\n- Resultado...\")\n",
        "    print(\"A:\", a, \"\\nB:\", b, \"\\nC:\", c)\n",
        "    print(\"Delta:\", delta)\n",
        "    print(\"Raíz 1:\", x1)\n",
        "    print(\"\\nNa equação onde o delta é igual à 0, as raízes são iguais ou existe apenas uma.\")\n",
        "  else:\n",
        "    print(\"\\nCom o delta negativo, não tem como realizar a operação.\")\n",
        "\n",
        "# Função Principal\n",
        "def main():\n",
        "  a = int(input(\"Digite o valor de A: \"))\n",
        "  b = int(input(\"Digite o valor de B: \"))\n",
        "  c = int(input(\"Digite o valor de C: \"))\n",
        "\n",
        "  delta = fun_delta(a, b, c)\n",
        "  x1 = raizes_x1(a, b, delta)\n",
        "  x2 = raizes_x2(a, b, delta)\n",
        "\n",
        "  imprime(a, b, c, delta, x1, x2)\n",
        "\n",
        "\n",
        "# Executando...\n",
        "main()"
      ],
      "execution_count": null,
      "outputs": [
        {
          "output_type": "stream",
          "text": [
            "Digite o valor de A: 20\n",
            "Digite o valor de B: 10\n",
            "Digite o valor de C: 10\n",
            "\n",
            "Com o delta negativo, não tem como realizar a operação.\n"
          ],
          "name": "stdout"
        }
      ]
    },
    {
      "cell_type": "markdown",
      "metadata": {
        "id": "x7hQwT-yVncg"
      },
      "source": [
        "###Testes Automatiados"
      ]
    },
    {
      "cell_type": "code",
      "metadata": {
        "id": "M30ym-hxTinP"
      },
      "source": [
        "def func(x):\n",
        "  return x + 1\n",
        "\n",
        "def test_answer():\n",
        "  assert func(3) == 4 # o \"assert\" testa, se der certo, continua, se der errado, mostra um erro\n",
        "\n",
        "test_answer()"
      ],
      "execution_count": null,
      "outputs": []
    },
    {
      "cell_type": "code",
      "metadata": {
        "id": "2BG9ZLVmVRpi"
      },
      "source": [
        "def fatorial(n):\n",
        "  fat = 1\n",
        "\n",
        "  while (n > 1):\n",
        "    fat = fat * n\n",
        "    n -= 1\n",
        "\n",
        "  return fat\n",
        "\n",
        "def test_fatorial_1():\n",
        "  assert fatorial(0) == 1\n",
        "\n",
        "def test_fatorial_2():\n",
        "  assert fatorial(-10) == 12\n",
        "\n",
        "def test_fatorial_3():\n",
        "  assert fatorial(3) == 6\n",
        "\n",
        "test_fatorial_1()\n",
        "test_fatorial_2() # ele vai apontar o erro nesta função\n",
        "test_fatorial_3()"
      ],
      "execution_count": null,
      "outputs": []
    },
    {
      "cell_type": "markdown",
      "metadata": {
        "id": "qaE8rMI2BUUr"
      },
      "source": [
        "###Exercícios"
      ]
    },
    {
      "cell_type": "markdown",
      "metadata": {
        "id": "dfAzZel7BYDE"
      },
      "source": [
        "######Maior"
      ]
    },
    {
      "cell_type": "code",
      "metadata": {
        "colab": {
          "base_uri": "https://localhost:8080/"
        },
        "id": "l_X2_H-clpSs",
        "outputId": "b06ee833-ae09-4758-a85e-cec818291c36"
      },
      "source": [
        "def maior(x, y):\n",
        "  if x > y:\n",
        "    return x\n",
        "  else:\n",
        "    return y\n",
        "\n",
        "a = int(input(\"Digite o primeiro número: \"))\n",
        "b = int(input(\"Digite o segundo número: \"))\n",
        "\n",
        "print(\"\\nO maior entre A e B é:\", maior(a, b))"
      ],
      "execution_count": null,
      "outputs": [
        {
          "output_type": "stream",
          "text": [
            "Digite o primeiro número: 5\n",
            "Digite o segundo número: 20\n"
          ],
          "name": "stdout"
        },
        {
          "output_type": "execute_result",
          "data": {
            "text/plain": [
              "20"
            ]
          },
          "metadata": {
            "tags": []
          },
          "execution_count": 3
        }
      ]
    },
    {
      "cell_type": "markdown",
      "metadata": {
        "id": "TxGO8oDKBakJ"
      },
      "source": [
        "######Maior Primo"
      ]
    },
    {
      "cell_type": "code",
      "metadata": {
        "colab": {
          "base_uri": "https://localhost:8080/"
        },
        "id": "xJGr2V_bmkhU",
        "outputId": "9e4b9a75-c8d6-4722-80fc-5876f56d583e"
      },
      "source": [
        "def maior_primo(numero_inicial):\n",
        "  numero_checagem = 1\n",
        "\n",
        "  while numero_checagem <= numero_inicial:\n",
        "    indice = 1\n",
        "    cont = 0\n",
        "    while indice <= numero_checagem:\n",
        "      if numero_checagem % indice == 0:\n",
        "        cont += 1\n",
        "\n",
        "      indice += 1\n",
        "\n",
        "    if cont == 2:\n",
        "      maior = numero_checagem\n",
        "\n",
        "    numero_checagem += 1\n",
        "\n",
        "  return maior\n",
        "\n",
        "a = int(input(\"Digite um número para verificação: \"))\n",
        "print(\"\\nO maior número primo verificado é:\", maior_primo(a))"
      ],
      "execution_count": null,
      "outputs": [
        {
          "output_type": "stream",
          "text": [
            "Digite um número para verificação: 14\n"
          ],
          "name": "stdout"
        },
        {
          "output_type": "execute_result",
          "data": {
            "text/plain": [
              "13"
            ]
          },
          "metadata": {
            "tags": []
          },
          "execution_count": 20
        }
      ]
    },
    {
      "cell_type": "markdown",
      "metadata": {
        "id": "uVy-HmRhBddB"
      },
      "source": [
        "######Vogal"
      ]
    },
    {
      "cell_type": "code",
      "metadata": {
        "colab": {
          "base_uri": "https://localhost:8080/"
        },
        "id": "BmojA4d8q9F-",
        "outputId": "b45f3234-036d-4840-c0db-5f507dd084cd"
      },
      "source": [
        "def vogal(a):\n",
        "  if (a == \"a\" or a == \"A\") or (a == \"e\" or a == \"E\") or (a == \"i\" or a == \"I\") or (a == \"o\" or a == \"O\") or (a == \"u\" or a == \"U\"):\n",
        "    return True\n",
        "  else:\n",
        "    return False\n",
        "\n",
        "letra = input(\"Digite uma letra para checagem: \")\n",
        "print(\"-->\", vogal(letra))"
      ],
      "execution_count": null,
      "outputs": [
        {
          "output_type": "stream",
          "text": [
            "Digite uma letra para checagem: a\n",
            "--> True\n"
          ],
          "name": "stdout"
        }
      ]
    },
    {
      "cell_type": "markdown",
      "metadata": {
        "id": "lwwk9cK-Bfu5"
      },
      "source": [
        "######FizzBuzz com Função"
      ]
    },
    {
      "cell_type": "code",
      "metadata": {
        "colab": {
          "base_uri": "https://localhost:8080/"
        },
        "id": "Ss_tnQ7vt7LD",
        "outputId": "941e42b2-67d6-4a9d-e802-deae6578c5b5"
      },
      "source": [
        "def fizzbuzz(num):\n",
        "  if num % 3 == 0 and not num % 5 == 0:\n",
        "    print(\"**FIZZ**\")\n",
        "  elif num % 5 == 0 and not num % 3 == 0:\n",
        "    print(\"**BUZZ**\")\n",
        "  elif (num % 3 == 0) and (num % 5 == 0):\n",
        "    print(\"**FIZZBUZZ**\")\n",
        "  else:\n",
        "    print(num)\n",
        "\n",
        "a = int(input())\n",
        "fizzbuzz(a)"
      ],
      "execution_count": null,
      "outputs": [
        {
          "output_type": "stream",
          "text": [
            "19\n",
            "19\n"
          ],
          "name": "stdout"
        }
      ]
    },
    {
      "cell_type": "markdown",
      "metadata": {
        "id": "sVEKbBRlsViO"
      },
      "source": [
        "# Depurador e Refatoração\n",
        "\n",
        "---\n",
        "\n"
      ]
    },
    {
      "cell_type": "markdown",
      "metadata": {
        "id": "F_KQmQGlEdq9"
      },
      "source": [
        "###Exercícios"
      ]
    },
    {
      "cell_type": "markdown",
      "metadata": {
        "id": "drpUHjrpEkcc"
      },
      "source": [
        "######Jogo do NIM"
      ]
    },
    {
      "cell_type": "code",
      "metadata": {
        "id": "4LFepU4jsUzu"
      },
      "source": [
        "placar_jogador = 0\n",
        "placar_computador = 0\n",
        "\n",
        "print(\"Bem-vindo ao jogo do NIM! Escolha:\")\n",
        "print(\"\\n1 - Para jogar uma partida isolada\")\n",
        "print(\"2 - Para jogar um campeonato\")\n",
        "\n",
        "escolha = 0\n",
        "while escolha != 1 and escolha != 2:\n",
        "  escolha = int(input(\"\\n--> \"))\n",
        "  if escolha != 1 and escolha != 2:\n",
        "    print(\"Resposta inválida... Tente novamente!\")\n",
        "\n",
        "if escolha == 1:\n",
        "  print(\"Você escolheu uma partida isolada!\")\n",
        "  print()\n",
        "\n",
        "  num_pecas = int(input(\"Quantas peças? \"))\n",
        "  limite_pecas = int(input(\"Limite de peças por jogada? \"))\n",
        "\n",
        "  if num_pecas % (limite_pecas + 1) == 0:\n",
        "    print(\"\\nVocê começa!\")\n",
        "    \n",
        "    while num_pecas > 0:\n",
        "      # Jogador\n",
        "      retira_jogador = limite_pecas + 1\n",
        "      while retira_jogador > limite_pecas:\n",
        "        retira_jogador = int(input(\"\\nQuantas peças você vai tirar? \"))\n",
        "        if retira_jogador > limite_pecas:\n",
        "          print(\"Ops! Jogada inválida! Tente de novo.\")\n",
        "      \n",
        "      print(\"Você tirou\", retira_jogador, \"peças.\")\n",
        "\n",
        "      num_pecas = num_pecas - retira_jogador\n",
        "\n",
        "      if num_pecas == 1:\n",
        "        print(\"Agora resta apenas uma peça no tabuleiro.\")\n",
        "      elif num_pecas > 1:\n",
        "        print(\"Agora restam\", num_pecas, \"no tabuleiro.\")\n",
        "      else:\n",
        "        print(\"Fim do jogo! Você ganhou!\")\n",
        "        break\n",
        "\n",
        "      print()\n",
        "\n",
        "      # Computador\n",
        "      indice = 1\n",
        "      while indice < limite_pecas:\n",
        "        if (limite_pecas + 1) % indice == 0:\n",
        "          maior_multiplo = indice\n",
        "\n",
        "        indice += 1\n",
        "\n",
        "      if maior_multiplo == 1:\n",
        "        maior_multiplo = limite_pecas\n",
        "\n",
        "      retira_computador = maior_multiplo\n",
        "      print(\"O computador tirou\", retira_computador, \"peças.\")\n",
        "\n",
        "      num_pecas = num_pecas - retira_computador\n",
        "\n",
        "      if num_pecas == 1:\n",
        "        print(\"Agora resta apenas uma peça no tabuleiro.\")\n",
        "      elif num_pecas > 1:\n",
        "        print(\"Agora restam\", num_pecas, \"no tabuleiro.\")\n",
        "      else:\n",
        "        print(\"Fim do jogo! O computador ganhou!\")\n",
        "        break\n",
        "  else:\n",
        "    print(\"\\nComputador começa!\")\n",
        "\n",
        "    while num_pecas > 0:\n",
        "      # Computador\n",
        "      indice = 1\n",
        "      while indice < limite_pecas:\n",
        "        if (limite_pecas + 1) % indice == 0:\n",
        "          maior_multiplo = indice\n",
        "\n",
        "        indice += 1\n",
        "\n",
        "      if maior_multiplo == 1:\n",
        "        maior_multiplo = limite_pecas\n",
        "\n",
        "      retira_computador = maior_multiplo\n",
        "      print(\"\\nO computador tirou\", retira_computador, \"peças.\")\n",
        "\n",
        "      num_pecas = num_pecas - retira_computador\n",
        "\n",
        "      if num_pecas == 1:\n",
        "        print(\"Agora resta apenas uma peça no tabuleiro.\")\n",
        "      elif num_pecas > 1:\n",
        "        print(\"Agora restam\", num_pecas, \"no tabuleiro.\")\n",
        "      else:\n",
        "        print(\"Fim do jogo! O computador ganhou!\")\n",
        "        break\n",
        "\n",
        "      print()\n",
        "\n",
        "      # Jogador\n",
        "      retira_jogador = limite_pecas + 1\n",
        "      while retira_jogador > limite_pecas:\n",
        "        retira_jogador = int(input(\"Quantas peças você vai tirar? \"))\n",
        "        if retira_jogador > limite_pecas:\n",
        "          print(\"Ops! Jogada inválida! Tente de novo.\")\n",
        "      \n",
        "      print(\"Você tirou\", retira_jogador, \"peças.\")\n",
        "\n",
        "      num_pecas = num_pecas - retira_jogador\n",
        "\n",
        "      if num_pecas == 1:\n",
        "        print(\"Agora resta apenas uma peça no tabuleiro.\")\n",
        "      elif num_pecas > 1:\n",
        "        print(\"Agora restam\", num_pecas, \"no tabuleiro.\")\n",
        "      else:\n",
        "        print(\"Fim do jogo! Você ganhou!\")\n",
        "        break\n",
        "else:\n",
        "  print(\"Você escolheu um campeonato!\")\n",
        "\n",
        "  rodada = 1\n",
        "  while rodada <= 3:\n",
        "    print()\n",
        "    print(\"**** Rodada\", rodada, \"****\")\n",
        "\n",
        "    num_pecas = int(input(\"Quantas peças? \"))\n",
        "    limite_pecas = int(input(\"Limite de peças por jogada? \"))\n",
        "\n",
        "    if num_pecas % (limite_pecas + 1) == 0:\n",
        "      print(\"\\nVocê começa!\")\n",
        "    \n",
        "      while num_pecas > 0:\n",
        "        # Jogador\n",
        "        retira_jogador = limite_pecas + 1\n",
        "        while retira_jogador > limite_pecas:\n",
        "          retira_jogador = int(input(\"\\nQuantas peças você vai tirar? \"))\n",
        "          if retira_jogador > limite_pecas:\n",
        "            print(\"Ops! Jogada inválida! Tente de novo.\")\n",
        "      \n",
        "        print(\"Você tirou\", retira_jogador, \"peças.\")\n",
        "\n",
        "        num_pecas = num_pecas - retira_jogador\n",
        "\n",
        "        if num_pecas == 1:\n",
        "          print(\"Agora resta apenas uma peça no tabuleiro.\")\n",
        "        elif num_pecas > 1:\n",
        "          print(\"Agora restam\", num_pecas, \"no tabuleiro.\")\n",
        "        else:\n",
        "          print(\"Fim do jogo! Você ganhou!\")\n",
        "          placar_jogador += 1\n",
        "          break\n",
        "\n",
        "        print()\n",
        "\n",
        "        # Computador\n",
        "        indice = 1\n",
        "        while indice < limite_pecas:\n",
        "          if (limite_pecas + 1) % indice == 0:\n",
        "            maior_multiplo = indice\n",
        "\n",
        "          indice += 1\n",
        "\n",
        "        if maior_multiplo > limite_pecas:\n",
        "          maior_multiplo = limite_pecas\n",
        "\n",
        "        retira_computador = maior_multiplo\n",
        "        print(\"O computador tirou\", retira_computador, \"peças.\")\n",
        "\n",
        "        num_pecas = num_pecas - retira_computador\n",
        "\n",
        "        if num_pecas == 1:\n",
        "          print(\"Agora resta apenas uma peça no tabuleiro.\")\n",
        "        elif num_pecas > 1:\n",
        "          print(\"Agora restam\", num_pecas, \"no tabuleiro.\")\n",
        "        else:\n",
        "          print(\"Fim do jogo! O computador ganhou!\")\n",
        "          placar_computador += 1\n",
        "          break\n",
        "    else:\n",
        "      print(\"\\nComputador começa!\")\n",
        "\n",
        "      while num_pecas > 0:\n",
        "        # Computador\n",
        "        indice = 1\n",
        "        while indice < limite_pecas:\n",
        "          if (limite_pecas + 1) % indice == 0:\n",
        "            maior_multiplo = indice\n",
        "\n",
        "          indice += 1\n",
        "\n",
        "        if maior_multiplo > limite_pecas:\n",
        "          maior_multiplo = limite_pecas\n",
        "\n",
        "        retira_computador = maior_multiplo\n",
        "        print(\"\\nO computador tirou\", retira_computador, \"peças.\")\n",
        "\n",
        "        num_pecas = num_pecas - retira_computador\n",
        "\n",
        "        if num_pecas == 1:\n",
        "          print(\"Agora resta apenas uma peça no tabuleiro.\")\n",
        "        elif num_pecas > 1:\n",
        "          print(\"Agora restam\", num_pecas, \"no tabuleiro.\")\n",
        "        else:\n",
        "          print(\"Fim do jogo! O computador ganhou!\")\n",
        "          placar_computador += 1\n",
        "          break\n",
        "\n",
        "        print()\n",
        "\n",
        "        # Jogador\n",
        "        retira_jogador = limite_pecas + 1\n",
        "        while retira_jogador > limite_pecas:\n",
        "          retira_jogador = int(input(\"Quantas peças você vai tirar? \"))\n",
        "          if retira_jogador > limite_pecas:\n",
        "            print(\"Ops! Jogada inválida! Tente de novo.\")\n",
        "      \n",
        "        print(\"Você tirou\", retira_jogador, \"peças.\")\n",
        "\n",
        "        num_pecas = num_pecas - retira_jogador\n",
        "\n",
        "        if num_pecas == 1:\n",
        "          print(\"Agora resta apenas uma peça no tabuleiro.\")\n",
        "        elif num_pecas > 1:\n",
        "          print(\"Agora restam\", num_pecas, \"no tabuleiro.\")\n",
        "        else:\n",
        "          print(\"Fim do jogo! Você ganhou!\")\n",
        "          placar_jogador += 1\n",
        "          break\n",
        "\n",
        "    rodada += 1\n",
        "\n",
        "  print(\"**** Final do campeonato! ****\")\n",
        "  print(\"\\nPlacar: Você\", placar_jogador, \"X\", placar_computador, \"Computador\")"
      ],
      "execution_count": null,
      "outputs": []
    },
    {
      "cell_type": "markdown",
      "metadata": {
        "id": "uvtziWV6EndL"
      },
      "source": [
        "######Jogo do NIM (Com Função)"
      ]
    },
    {
      "cell_type": "code",
      "metadata": {
        "id": "w7Gu3v8gGIuv"
      },
      "source": [
        "# Jogo do NIM\n",
        "\n",
        "def computador_escolhe_jogada(num_pecas, limite_pecas):\n",
        "  indice = 1\n",
        "  maior_multiplo = 1\n",
        "  while indice < limite_pecas:\n",
        "    if (limite_pecas + 1) % indice == 0:\n",
        "      maior_multiplo = indice\n",
        "\n",
        "    indice += 1\n",
        "\n",
        "  if maior_multiplo == 1:\n",
        "    maior_multiplo = limite_pecas\n",
        "\n",
        "  if limite_pecas > num_pecas:\n",
        "    maior_multiplo = num_pecas\n",
        "\n",
        "  return maior_multiplo  \n",
        "\n",
        "def usuario_escolhe_jogada(num_pecas, limite_pecas):\n",
        "  retira_jogador = limite_pecas + 1\n",
        "  while retira_jogador > limite_pecas or retira_jogador <= 0:\n",
        "    retira_jogador = int(input(\"\\nQuantas peças você vai tirar? \"))\n",
        "    if retira_jogador > limite_pecas:\n",
        "      print(\"Ops! Jogada inválida! Tente de novo.\")\n",
        "    elif retira_jogador <= 0:\n",
        "      print(\"Ops! Jogada inválida! Tente de novo.\")\n",
        "      \n",
        "  print(\"Você tirou\", retira_jogador, \"peças.\")\n",
        "\n",
        "  return retira_jogador\n",
        "\n",
        "def partida():\n",
        "  placar_jogador = 0\n",
        "  placar_computador = 0\n",
        "\n",
        "  print(\"Bem-vindo ao jogo do NIM! Escolha:\")\n",
        "  print(\"\\n1 - Para jogar uma partida isolada\")\n",
        "  print(\"2 - Para jogar um campeonato\")\n",
        "\n",
        "  escolha = 0\n",
        "  while escolha != 1 and escolha != 2:\n",
        "    escolha = int(input(\"\\n--> \"))\n",
        "    if escolha != 1 and escolha != 2:\n",
        "      print(\"Resposta inválida... Tente novamente!\")\n",
        "\n",
        "  if escolha == 1:\n",
        "    print(\"Você escolheu uma partida isolada!\")\n",
        "    print()\n",
        "\n",
        "    num_pecas = int(input(\"Quantas peças? \"))\n",
        "    limite_pecas = num_pecas + 1\n",
        "    while limite_pecas > num_pecas:\n",
        "      limite_pecas = int(input(\"Limite de peças por jogada? \"))\n",
        "\n",
        "    if num_pecas % (limite_pecas + 1) == 0:\n",
        "      print(\"\\nVocê começa!\")\n",
        "    \n",
        "      while num_pecas > 0:\n",
        "        # Jogador\n",
        "        num_pecas = num_pecas - usuario_escolhe_jogada(num_pecas, limite_pecas)\n",
        "\n",
        "        if num_pecas == 1:\n",
        "          print(\"Agora resta apenas uma peça no tabuleiro.\")\n",
        "        elif num_pecas > 1:\n",
        "          print(\"Agora restam\", num_pecas, \"peças no tabuleiro.\")\n",
        "        else:\n",
        "          print(\"Fim do jogo! Você ganhou!\")\n",
        "          break\n",
        "\n",
        "        print()\n",
        "\n",
        "        # Computador\n",
        "        retira_computador = computador_escolhe_jogada(num_pecas, limite_pecas)\n",
        "        print(\"O computador tirou\", retira_computador, \"peças.\")\n",
        "\n",
        "        num_pecas = num_pecas - retira_computador\n",
        "\n",
        "        if num_pecas == 1:\n",
        "          print(\"Agora resta apenas uma peça no tabuleiro.\")\n",
        "        elif num_pecas > 1:\n",
        "          print(\"Agora restam\", num_pecas, \"peças no tabuleiro.\")\n",
        "        else:\n",
        "          print(\"Fim do jogo! O computador ganhou!\")\n",
        "          break\n",
        "    else:\n",
        "      print(\"\\nComputador começa!\")\n",
        "\n",
        "      while num_pecas > 0:\n",
        "        # Computador\n",
        "        retira_computador = computador_escolhe_jogada(num_pecas, limite_pecas)\n",
        "        print(\"\\nO computador tirou\", retira_computador, \"peças.\")\n",
        "\n",
        "        num_pecas = num_pecas - retira_computador\n",
        "\n",
        "        if num_pecas == 1:\n",
        "          print(\"Agora resta apenas uma peça no tabuleiro.\")\n",
        "        elif num_pecas > 1:\n",
        "          print(\"Agora restam\", num_pecas, \"peças no tabuleiro.\")\n",
        "        else:\n",
        "          print(\"Fim do jogo! O computador ganhou!\")\n",
        "          break\n",
        "\n",
        "        print()\n",
        "\n",
        "        # Jogador\n",
        "        num_pecas = num_pecas - usuario_escolhe_jogada(num_pecas, limite_pecas)\n",
        "\n",
        "        if num_pecas == 1:\n",
        "          print(\"Agora resta apenas uma peça no tabuleiro.\")\n",
        "        elif num_pecas > 1:\n",
        "          print(\"Agora restam\", num_pecas, \"peças no tabuleiro.\")\n",
        "        else:\n",
        "          print(\"Fim do jogo! Você ganhou!\")\n",
        "          break\n",
        "  else:\n",
        "    print(\"Você escolheu um campeonato!\")\n",
        "\n",
        "    rodada = 1\n",
        "    while rodada <= 3:\n",
        "      print()\n",
        "      print(\"**** Rodada\", rodada, \"****\")\n",
        "\n",
        "      num_pecas = int(input(\"Quantas peças? \"))\n",
        "      limite_pecas = num_pecas + 1\n",
        "      while limite_pecas > num_pecas:\n",
        "        limite_pecas = int(input(\"Limite de peças por jogada? \"))\n",
        "\n",
        "      if num_pecas % (limite_pecas + 1) == 0:\n",
        "        print(\"\\nVocê começa!\")\n",
        "    \n",
        "        while num_pecas > 0:\n",
        "          # Jogador\n",
        "          num_pecas = num_pecas - usuario_escolhe_jogada(num_pecas, limite_pecas)\n",
        "\n",
        "          if num_pecas == 1:\n",
        "            print(\"Agora resta apenas uma peça no tabuleiro.\")\n",
        "          elif num_pecas > 1:\n",
        "            print(\"Agora restam\", num_pecas, \"peças no tabuleiro.\")\n",
        "          else:\n",
        "            print(\"Fim do jogo! Você ganhou!\")\n",
        "            placar_jogador += 1\n",
        "            break\n",
        "\n",
        "          print()\n",
        "\n",
        "          # Computador\n",
        "          retira_computador = computador_escolhe_jogada(num_pecas, limite_pecas)\n",
        "          print(\"O computador tirou\", retira_computador, \"peças.\")\n",
        "\n",
        "          num_pecas = num_pecas - retira_computador\n",
        "\n",
        "          if num_pecas == 1:\n",
        "            print(\"Agora resta apenas uma peça no tabuleiro.\")\n",
        "          elif num_pecas > 1:\n",
        "            print(\"Agora restam\", num_pecas, \"peças no tabuleiro.\")\n",
        "          else:\n",
        "            print(\"Fim do jogo! O computador ganhou!\")\n",
        "            placar_computador += 1\n",
        "            break\n",
        "      else:\n",
        "        print(\"\\nComputador começa!\")\n",
        "\n",
        "        while num_pecas > 0:\n",
        "          # Computador\n",
        "          retira_computador = computador_escolhe_jogada(num_pecas, limite_pecas)\n",
        "          print(\"\\nO computador tirou\", retira_computador, \"peças.\")\n",
        "\n",
        "          num_pecas = num_pecas - retira_computador\n",
        "\n",
        "          if num_pecas == 1:\n",
        "            print(\"Agora resta apenas uma peça no tabuleiro.\")\n",
        "          elif num_pecas > 1:\n",
        "            print(\"Agora restam\", num_pecas, \"peças no tabuleiro.\")\n",
        "          else:\n",
        "            print(\"Fim do jogo! O computador ganhou!\")\n",
        "            placar_computador += 1\n",
        "            break\n",
        "\n",
        "          print()\n",
        "\n",
        "          # Jogador\n",
        "          num_pecas = num_pecas - usuario_escolhe_jogada(num_pecas, limite_pecas)\n",
        "\n",
        "          if num_pecas == 1:\n",
        "            print(\"Agora resta apenas uma peça no tabuleiro.\")\n",
        "          elif num_pecas > 1:\n",
        "            print(\"Agora restam\", num_pecas, \"peças no tabuleiro.\")\n",
        "          else:\n",
        "            print(\"Fim do jogo! Você ganhou!\")\n",
        "            placar_jogador += 1\n",
        "            break\n",
        "\n",
        "      rodada += 1\n",
        "\n",
        "    print(\"**** Final do campeonato! ****\")\n",
        "    print(\"\\nPlacar: Você\", placar_jogador, \"X\", placar_computador, \"Computador\")\n",
        "    \n",
        "\n",
        "partida()"
      ],
      "execution_count": null,
      "outputs": []
    },
    {
      "cell_type": "markdown",
      "metadata": {
        "id": "DnRafhWphLgY"
      },
      "source": [
        "# Repetições Encaixadas - While Intercalado / Laços Alinhados\n",
        "\n",
        "---\n",
        "\n"
      ]
    },
    {
      "cell_type": "markdown",
      "metadata": {
        "id": "tUxUr2Q6D2qi"
      },
      "source": [
        "###Exemplos"
      ]
    },
    {
      "cell_type": "markdown",
      "metadata": {
        "id": "bsKndU8tD8k5"
      },
      "source": [
        "######Tabuada"
      ]
    },
    {
      "cell_type": "code",
      "metadata": {
        "colab": {
          "base_uri": "https://localhost:8080/"
        },
        "id": "CnaY7l_xhQLm",
        "outputId": "877e0f4e-c582-41fb-fb20-02e6bf7a84a4"
      },
      "source": [
        "linha = 1\n",
        "\n",
        "while linha <= 10:\n",
        "  coluna = 1\n",
        "  \n",
        "  while coluna <= 10:\n",
        "    print(coluna, \"*\", linha, \"=\", linha * coluna, end = \"\\t\") # o end impede de ir para a próxima linha como outro print, fica na mesma linha\n",
        "    coluna += 1\n",
        "  \n",
        "  print() # esse print faz as colunas\n",
        "  linha += 1"
      ],
      "execution_count": null,
      "outputs": [
        {
          "output_type": "stream",
          "text": [
            "1 * 1 = 1\t2 * 1 = 2\t3 * 1 = 3\t4 * 1 = 4\t5 * 1 = 5\t6 * 1 = 6\t7 * 1 = 7\t8 * 1 = 8\t9 * 1 = 9\t10 * 1 = 10\t\n",
            "1 * 2 = 2\t2 * 2 = 4\t3 * 2 = 6\t4 * 2 = 8\t5 * 2 = 10\t6 * 2 = 12\t7 * 2 = 14\t8 * 2 = 16\t9 * 2 = 18\t10 * 2 = 20\t\n",
            "1 * 3 = 3\t2 * 3 = 6\t3 * 3 = 9\t4 * 3 = 12\t5 * 3 = 15\t6 * 3 = 18\t7 * 3 = 21\t8 * 3 = 24\t9 * 3 = 27\t10 * 3 = 30\t\n",
            "1 * 4 = 4\t2 * 4 = 8\t3 * 4 = 12\t4 * 4 = 16\t5 * 4 = 20\t6 * 4 = 24\t7 * 4 = 28\t8 * 4 = 32\t9 * 4 = 36\t10 * 4 = 40\t\n",
            "1 * 5 = 5\t2 * 5 = 10\t3 * 5 = 15\t4 * 5 = 20\t5 * 5 = 25\t6 * 5 = 30\t7 * 5 = 35\t8 * 5 = 40\t9 * 5 = 45\t10 * 5 = 50\t\n",
            "1 * 6 = 6\t2 * 6 = 12\t3 * 6 = 18\t4 * 6 = 24\t5 * 6 = 30\t6 * 6 = 36\t7 * 6 = 42\t8 * 6 = 48\t9 * 6 = 54\t10 * 6 = 60\t\n",
            "1 * 7 = 7\t2 * 7 = 14\t3 * 7 = 21\t4 * 7 = 28\t5 * 7 = 35\t6 * 7 = 42\t7 * 7 = 49\t8 * 7 = 56\t9 * 7 = 63\t10 * 7 = 70\t\n",
            "1 * 8 = 8\t2 * 8 = 16\t3 * 8 = 24\t4 * 8 = 32\t5 * 8 = 40\t6 * 8 = 48\t7 * 8 = 56\t8 * 8 = 64\t9 * 8 = 72\t10 * 8 = 80\t\n",
            "1 * 9 = 9\t2 * 9 = 18\t3 * 9 = 27\t4 * 9 = 36\t5 * 9 = 45\t6 * 9 = 54\t7 * 9 = 63\t8 * 9 = 72\t9 * 9 = 81\t10 * 9 = 90\t\n",
            "1 * 10 = 10\t2 * 10 = 20\t3 * 10 = 30\t4 * 10 = 40\t5 * 10 = 50\t6 * 10 = 60\t7 * 10 = 70\t8 * 10 = 80\t9 * 10 = 90\t10 * 10 = 100\t\n"
          ],
          "name": "stdout"
        }
      ]
    },
    {
      "cell_type": "markdown",
      "metadata": {
        "id": "OnUMJ8RCD_kR"
      },
      "source": [
        "######Fatorial"
      ]
    },
    {
      "cell_type": "code",
      "metadata": {
        "colab": {
          "base_uri": "https://localhost:8080/"
        },
        "id": "ZsTZP2qclMV8",
        "outputId": "38a65b05-a95e-47e5-85eb-71df4cfc7084"
      },
      "source": [
        "num = 1\n",
        "\n",
        "while num >= 0:\n",
        "  num = int(input(\"Digite um número: \"))\n",
        "\n",
        "  fatorial = 1\n",
        "  while num > 1:\n",
        "    fatorial = fatorial * num\n",
        "    num -= 1\n",
        "\n",
        "  if num < 0:\n",
        "    print(\"Fim do Programa!!!\")\n",
        "  else:\n",
        "    print(\"O fatorial é:\", fatorial)\n",
        "    print()"
      ],
      "execution_count": null,
      "outputs": [
        {
          "output_type": "stream",
          "text": [
            "Digite um número: 0\n",
            "O fatorial é: 1\n",
            "\n",
            "Digite um número: -1\n",
            "Fim do Programa!!!\n"
          ],
          "name": "stdout"
        }
      ]
    },
    {
      "cell_type": "markdown",
      "metadata": {
        "id": "s13c2hliEBzK"
      },
      "source": [
        "######Fatorial com Função"
      ]
    },
    {
      "cell_type": "code",
      "metadata": {
        "colab": {
          "base_uri": "https://localhost:8080/"
        },
        "id": "drxVyG6vnpbV",
        "outputId": "38a81db9-8345-4166-b658-391a35be0361"
      },
      "source": [
        "def fat(num):\n",
        "  fatorial = 1\n",
        "  while num > 1:\n",
        "    fatorial = fatorial * num\n",
        "    num -= 1\n",
        "\n",
        "  return fatorial\n",
        "\n",
        "\n",
        "num = 1\n",
        "while num >= 0:\n",
        "  num = int(input(\"Digite um número: \"))\n",
        "\n",
        "  if num < 0:\n",
        "    print(\"Fim do Programa!!!\")\n",
        "  else:\n",
        "    print(\"O fatorial é:\", fat(num))\n",
        "    print()"
      ],
      "execution_count": null,
      "outputs": [
        {
          "output_type": "stream",
          "text": [
            "Digite um número: 10\n",
            "O fatorial é: 3628800\n",
            "\n",
            "Digite um número: 15\n",
            "O fatorial é: 1307674368000\n",
            "\n",
            "Digite um número: -1\n",
            "Fim do Programa!!!\n"
          ],
          "name": "stdout"
        }
      ]
    },
    {
      "cell_type": "markdown",
      "metadata": {
        "id": "RL0vqcixEJ7t"
      },
      "source": [
        "######Decomposição em Fatores Primos"
      ]
    },
    {
      "cell_type": "code",
      "metadata": {
        "colab": {
          "base_uri": "https://localhost:8080/"
        },
        "id": "IM6KJPHioaZI",
        "outputId": "ba602ae8-6ecd-4b75-ec9f-9e289e98cf91"
      },
      "source": [
        "num = int(input(\"Digite um número inteiro maior que 1: \"))\n",
        "\n",
        "fator = 2\n",
        "multiplicidade = 0\n",
        "\n",
        "while num > 1:\n",
        "  while num % fator == 0:\n",
        "    multiplicidade += 1\n",
        "    num = num / fator\n",
        "\n",
        "  if multiplicidade > 0:\n",
        "    print(\"Fator\", fator, \"multiplicidade =\", multiplicidade)\n",
        "\n",
        "  fator += 1\n",
        "  multiplicidade = 0"
      ],
      "execution_count": null,
      "outputs": [
        {
          "output_type": "stream",
          "text": [
            "Digite um número inteiro maior que 1: 65536\n",
            "Fator 2 multiplicidade = 16\n"
          ],
          "name": "stdout"
        }
      ]
    },
    {
      "cell_type": "markdown",
      "metadata": {
        "id": "n7CXUMa1EGVJ"
      },
      "source": [
        "###Exercícios"
      ]
    },
    {
      "cell_type": "markdown",
      "metadata": {
        "id": "bEb9lUa8EOqu"
      },
      "source": [
        "######Número Primo"
      ]
    },
    {
      "cell_type": "code",
      "metadata": {
        "id": "dD6E5pxprFvD"
      },
      "source": [
        "def éPrimo(num):\n",
        "  i = 1\n",
        "  cont = 0\n",
        "  while i <= num:\n",
        "    if num % i == 0:\n",
        "      cont += 1\n",
        "\n",
        "    i += 1    \n",
        "\n",
        "  if cont == 2:\n",
        "    return True\n",
        "  else:\n",
        "    return False\n",
        "\n",
        "\n",
        "num = 1\n",
        "while num >= 0:\n",
        "  num = int(input(\"Digite um número: \"))\n",
        "\n",
        "  print(\"Primo:\", éPrimo(num))\n",
        "  print()"
      ],
      "execution_count": null,
      "outputs": []
    },
    {
      "cell_type": "markdown",
      "metadata": {
        "id": "fTE0sChEERZP"
      },
      "source": [
        "######Desenhando uma Caixa"
      ]
    },
    {
      "cell_type": "code",
      "metadata": {
        "colab": {
          "base_uri": "https://localhost:8080/"
        },
        "id": "xzdgDn7Kujk0",
        "outputId": "4e3e9368-1db4-4f3a-e156-65732000806d"
      },
      "source": [
        "coluna = int(input(\"Digite a largura: \"))\n",
        "linha = int(input(\"Digite a altura: \"))\n",
        "\n",
        "indice = coluna \n",
        "while linha >= 1:\n",
        "  coluna = indice\n",
        "  while coluna >= 1:\n",
        "    print(\"#\", end = \"\") # o end impede de ir para a próxima linha como outro print, fica na mesma linha\n",
        "    coluna -= 1\n",
        "  \n",
        "  print() # esse print faz as colunas\n",
        "  linha -= 1"
      ],
      "execution_count": null,
      "outputs": [
        {
          "output_type": "stream",
          "text": [
            "Digite a largura: 2\n",
            "Digite a altura: 2\n",
            "##\n",
            "##\n"
          ],
          "name": "stdout"
        }
      ]
    },
    {
      "cell_type": "markdown",
      "metadata": {
        "id": "byy3AHMUEUrj"
      },
      "source": [
        "######Caixa sem Preenchimento"
      ]
    },
    {
      "cell_type": "code",
      "metadata": {
        "colab": {
          "base_uri": "https://localhost:8080/"
        },
        "id": "d52o4-660V-L",
        "outputId": "8b6aeccd-54dd-462a-85d1-24f58d9d391a"
      },
      "source": [
        "largura = int(input(\"Digite a largura: \"))\n",
        "altura = int(input(\"Digite a altura: \"))\n",
        "\n",
        "l = 1 \n",
        "a = 1 #Primeira linha\n",
        "while a <= altura: #Primeira linha\n",
        "   print('#' * largura, end = '') #Linha completa\n",
        "   print() #Nova linha\n",
        "   \n",
        "   a = a + 1 #Sai da primeira linha\n",
        "   \n",
        "   while a > 1 and a < altura: #Começa linha vazada\n",
        "      print('#' + ' ' * (largura - 2) + '#') #Linha vazada até a penúltima linha\n",
        "      a = a + 1 #Passa pra nova linha. Quando chegar à última linha, sai do while interno e volta ao while externo imprimindo uma linha cheia."
      ],
      "execution_count": null,
      "outputs": [
        {
          "output_type": "stream",
          "text": [
            "digite a largura: 10\n",
            "digite a altura: 3\n",
            "##########\n",
            "#        #\n",
            "##########\n"
          ],
          "name": "stdout"
        }
      ]
    },
    {
      "cell_type": "markdown",
      "metadata": {
        "id": "Ol5WGMy_wLas"
      },
      "source": [
        "# Listas - Arrays / Vetores\n",
        "\n",
        "---\n",
        "\n"
      ]
    },
    {
      "cell_type": "markdown",
      "metadata": {
        "id": "Xo-OBMV8CrzQ"
      },
      "source": [
        "###Lista Simples"
      ]
    },
    {
      "cell_type": "code",
      "metadata": {
        "id": "sg4pnHcewPOs"
      },
      "source": [
        "playlist_cantores = [\"Criolo\", \"Dua Lipa\", \"Tim Maia\", \"Ed Sheeran\", \"Brazza\"]\n",
        "\n",
        "print(playlist_cantores) # mostra o vetor inteiro\n",
        "print(playlist_cantores[3]) # localização no vetor\n",
        "print(len(playlist_cantores)) # tamanho do vetor\n",
        "print(type(playlist_cantores[0])) # tipo de variável na posição 0\n",
        "\n",
        "playlist_cantores.append(\"Martinho da Vila\") # adiciona uma nova \"casa\" no vetor\n",
        "print()\n",
        "print(playlist_cantores)\n",
        "\n",
        "playlist_cantores[2] = \"Seu Jorge\" # substituí o valor\n",
        "print()\n",
        "print(playlist_cantores)"
      ],
      "execution_count": null,
      "outputs": []
    },
    {
      "cell_type": "markdown",
      "metadata": {
        "id": "MHA6BxfPCur-"
      },
      "source": [
        "###Exemplo"
      ]
    },
    {
      "cell_type": "markdown",
      "metadata": {
        "id": "tMhQ7yIWCyIm"
      },
      "source": [
        "######Ordem Inversa"
      ]
    },
    {
      "cell_type": "code",
      "metadata": {
        "id": "a-PQ-op71qKB"
      },
      "source": [
        "numeros = []\n",
        "\n",
        "num = 1\n",
        "while num != 0:\n",
        "  num = int(input(\"Digite um número inteiro terminado em 0: \"))\n",
        "  \n",
        "  if num % 10 == 0:\n",
        "    numeros.append(num)\n",
        "\n",
        "numeros.reverse()\n",
        "numeros.remove(0)\n",
        "numeros"
      ],
      "execution_count": null,
      "outputs": []
    },
    {
      "cell_type": "markdown",
      "metadata": {
        "id": "O6ZH7zUV_dqT"
      },
      "source": [
        "###Comando FOR"
      ]
    },
    {
      "cell_type": "code",
      "metadata": {
        "id": "q5-kvGc-7SoV"
      },
      "source": [
        "playlist_cantores = [\"Criolo\", \"Dua Lipa\", \"Tim Maia\", \"Ed Sheeran\", \"Brazza\"]\n",
        "\n",
        "for cantor in playlist_cantores: # adiciona a variável cantor o valor do vetor e executa o código\n",
        "  print(cantor)\n",
        "\n",
        "print(\"----------\")\n",
        "\n",
        "for i in range(10): # começa uma contagem até 10 e joga na variável\n",
        "  print(i)\n",
        "\n",
        "print(\"----------\")\n",
        "\n",
        "for i in range(1, 10): # começa uma contagem a partir do valor inicial até o valor final e joga na variável\n",
        "  print(i)\n",
        "\n",
        "print(\"----------\")\n",
        "\n",
        "for i in range(0, 10, 2): # começa uma contagem a partir do valor inicial até o valor final, de acordo com a terceira condição e joga na variável\n",
        "  print(i)\n",
        "\n",
        "print(\"----------\")\n",
        "\n",
        "pares = range(0, 40, 2)\n",
        "for i in pares:\n",
        "  print(i)"
      ],
      "execution_count": null,
      "outputs": []
    },
    {
      "cell_type": "markdown",
      "metadata": {
        "id": "2LCgDteBC8ZB"
      },
      "source": [
        "###Exemplo"
      ]
    },
    {
      "cell_type": "code",
      "metadata": {
        "colab": {
          "base_uri": "https://localhost:8080/"
        },
        "id": "b_aHHEQ3_g9m",
        "outputId": "661bb4a3-95fc-4f7e-bf45-759a78c43c3b"
      },
      "source": [
        "num = [1, 2, 3, 4, 5, 6, 7, 8, 9, 10]\n",
        "\n",
        "for i in range(len(num)): # o tamanho do for é igual ao tamanho do vetor -> range(len(primos))\n",
        "  num[i] = num[i] * 2\n",
        "\n",
        "num"
      ],
      "execution_count": null,
      "outputs": [
        {
          "output_type": "execute_result",
          "data": {
            "text/plain": [
              "[2, 4, 6, 8, 10, 12, 14, 16, 18, 20]"
            ]
          },
          "metadata": {
            "tags": []
          },
          "execution_count": 43
        }
      ]
    },
    {
      "cell_type": "markdown",
      "metadata": {
        "id": "LtWvUClwDACz"
      },
      "source": [
        "###Partes de Listas"
      ]
    },
    {
      "cell_type": "code",
      "metadata": {
        "colab": {
          "base_uri": "https://localhost:8080/"
        },
        "id": "JUaJeJRNCj7d",
        "outputId": "3e3c549c-2fa6-454b-f1eb-58355e39e789"
      },
      "source": [
        "num = [1, 2, 3, 4, 5, 6, 7, 8, 9, 10]\n",
        "\n",
        "print(num[2:5]) # ele vai até uma posição a menos do ultimo valor, a posição 5 é o número 6, mas ele foi até o 5\n",
        "\n",
        "inicio = num[:3]\n",
        "print(inicio) # sem dar o valor inicial, ele começa do começo\n",
        "\n",
        "final = num[7:]\n",
        "print(final) # sem dar o valor final, ele vai até o fim"
      ],
      "execution_count": null,
      "outputs": [
        {
          "output_type": "stream",
          "text": [
            "[3, 4, 5]\n",
            "[1, 2, 3]\n",
            "[8, 9, 10]\n"
          ],
          "name": "stdout"
        }
      ]
    },
    {
      "cell_type": "markdown",
      "metadata": {
        "id": "LMYso78JDD81"
      },
      "source": [
        "###Clonar Listas"
      ]
    },
    {
      "cell_type": "code",
      "metadata": {
        "colab": {
          "base_uri": "https://localhost:8080/"
        },
        "id": "7CRfTHWoEQzA",
        "outputId": "e994bfd3-3db8-43c1-d250-082e648ebb9b"
      },
      "source": [
        "lista1 = [\"Vermelho\", \"Verde\", \"Azul\"]\n",
        "print(lista1)\n",
        "\n",
        "lista2 = lista1\n",
        "print(lista2)\n",
        "\n",
        "lista2[0] = \"Rosa\"\n",
        "\n",
        "print(lista1)\n",
        "print(lista2)\n",
        "  # elas mudam juntas, já que as duas se referenciam a mesma lista\n",
        "\n",
        "print(\"----------\")\n",
        "\n",
        "lista1 = [\"Vermelho\", \"Verde\", \"Azul\"]\n",
        "\n",
        "lista2 = lista1[:] # cria um clone\n",
        "\n",
        "lista2[0] = \"Rosa\"\n",
        "\n",
        "print(lista1)\n",
        "print(lista2)\n",
        "  # dessa vez, não mudaram juntas"
      ],
      "execution_count": null,
      "outputs": [
        {
          "output_type": "stream",
          "text": [
            "['Vermelho', 'Verde', 'Azul']\n",
            "['Vermelho', 'Verde', 'Azul']\n",
            "['Rosa', 'Verde', 'Azul']\n",
            "['Rosa', 'Verde', 'Azul']\n",
            "----------\n",
            "['Vermelho', 'Verde', 'Azul']\n",
            "['Rosa', 'Verde', 'Azul']\n"
          ],
          "name": "stdout"
        }
      ]
    },
    {
      "cell_type": "markdown",
      "metadata": {
        "id": "roSoIRMADHe9"
      },
      "source": [
        "###Pertinência de uma Lista"
      ]
    },
    {
      "cell_type": "code",
      "metadata": {
        "colab": {
          "base_uri": "https://localhost:8080/"
        },
        "id": "tjFcVn4EGRBJ",
        "outputId": "56df8adb-3610-42f3-aeba-7b8312d439bf"
      },
      "source": [
        "lista1 = [\"Vermelho\", \"Verde\", \"Azul\"]\n",
        "\n",
        "print(\"Rosa\" in lista1)\n",
        "print(\"Rosa\" in lista2)\n",
        "  # checando se o \"Rosa\" está em alguma das listas\n",
        "\n",
        "print(\"-----------\")\n",
        "\n",
        "if \"Rosa\" in lista1:\n",
        "  print(\"Está\")\n",
        "else:\n",
        "  print(\"Faltou\")\n",
        "\n",
        "if \"Vermelho\" in lista1:\n",
        "  print(\"Está\")\n",
        "else:\n",
        "  print(\"Faltou\")"
      ],
      "execution_count": null,
      "outputs": [
        {
          "output_type": "stream",
          "text": [
            "False\n",
            "True\n",
            "-----------\n",
            "Faltou\n",
            "Está\n"
          ],
          "name": "stdout"
        }
      ]
    },
    {
      "cell_type": "markdown",
      "metadata": {
        "id": "RVO7IZADDK2T"
      },
      "source": [
        "###Concatenação"
      ]
    },
    {
      "cell_type": "code",
      "metadata": {
        "colab": {
          "base_uri": "https://localhost:8080/"
        },
        "id": "LWM4XrjDG_ys",
        "outputId": "f0d7cef5-e934-466f-b84a-1ec93e6f525d"
      },
      "source": [
        "print([1, 2] + [3, 4])\n",
        "print([\"Fabricio Araujo\"] + [19])\n",
        "\n",
        "a = [1, 2, 3]\n",
        "b = [4, 5, 6]\n",
        "print(a + b)\n",
        "print(b + a)\n",
        "print(a + a + b + b)\n",
        "  # concatenação não altera uma lista, somente cria uma amostra nova para que possa ser usada em alguma função\n",
        "\n",
        "print(\"----------\")\n",
        "\n",
        "x = [1, 2, 3]\n",
        "x.append(\"gato\")\n",
        "\n",
        "print(x)\n",
        "\n",
        "y = x + [5]\n",
        "print(y)"
      ],
      "execution_count": null,
      "outputs": [
        {
          "output_type": "stream",
          "text": [
            "[1, 2, 3, 4]\n",
            "['Fabricio Araujo', 19]\n",
            "[1, 2, 3, 4, 5, 6]\n",
            "[4, 5, 6, 1, 2, 3]\n",
            "[1, 2, 3, 1, 2, 3, 4, 5, 6, 4, 5, 6]\n",
            "----------\n",
            "[1, 2, 3, 'gato']\n",
            "[1, 2, 3, 'gato', 5]\n"
          ],
          "name": "stdout"
        }
      ]
    },
    {
      "cell_type": "markdown",
      "metadata": {
        "id": "kwINUXiODOdj"
      },
      "source": [
        "###Repetição de Listas"
      ]
    },
    {
      "cell_type": "code",
      "metadata": {
        "colab": {
          "base_uri": "https://localhost:8080/"
        },
        "id": "tghccnzbIIB8",
        "outputId": "1ff9920c-9966-4efc-d946-3d25cef7c69e"
      },
      "source": [
        "a = [1, 2, 3]\n",
        "a_triplicado = a * 3 # ele repete a lista 3 vezes\n",
        "\n",
        "a_triplicado"
      ],
      "execution_count": null,
      "outputs": [
        {
          "output_type": "execute_result",
          "data": {
            "text/plain": [
              "[1, 2, 3, 1, 2, 3, 1, 2, 3]"
            ]
          },
          "metadata": {
            "tags": []
          },
          "execution_count": 76
        }
      ]
    },
    {
      "cell_type": "markdown",
      "metadata": {
        "id": "vdX7tYGpDRtS"
      },
      "source": [
        "###Remoção de Listas"
      ]
    },
    {
      "cell_type": "code",
      "metadata": {
        "colab": {
          "base_uri": "https://localhost:8080/"
        },
        "id": "menYEcyeKT7p",
        "outputId": "455f24c6-7075-4283-8954-1ae5b51b5d91"
      },
      "source": [
        "a = [1, 2, 3, 5, 6, 7, 8, 9, 10]\n",
        "\n",
        "del a[1] # remove o indice\n",
        "print(a)\n",
        "\n",
        "del a[3:7]\n",
        "print(a)\n",
        "\n",
        "a.remove(10) # também remove\n",
        "print(a)"
      ],
      "execution_count": null,
      "outputs": [
        {
          "output_type": "stream",
          "text": [
            "[1, 3, 5, 6, 7, 8, 9, 10]\n",
            "[1, 3, 5, 10]\n",
            "[1, 3, 5]\n"
          ],
          "name": "stdout"
        }
      ]
    },
    {
      "cell_type": "markdown",
      "metadata": {
        "id": "7hX6lLLhDZGB"
      },
      "source": [
        "###Exercícios"
      ]
    },
    {
      "cell_type": "markdown",
      "metadata": {
        "id": "NVhL3WWdDamj"
      },
      "source": [
        "######Remove Repetidos"
      ]
    },
    {
      "cell_type": "code",
      "metadata": {
        "colab": {
          "base_uri": "https://localhost:8080/"
        },
        "id": "G5rykmFINCFp",
        "outputId": "fff269d7-279b-4bf2-f1c1-f2b7ee110e31"
      },
      "source": [
        "def remove_repetidos(lista):\n",
        "  lista.sort() # organiza em ordem crescente\n",
        "    # sorted(lista)\n",
        "\n",
        "  lista_nova = []\n",
        "\n",
        "  for i in lista:\n",
        "    if i not in lista_nova:\n",
        "      lista_nova.append(i)\n",
        "\n",
        "  return lista_nova\n",
        "\n",
        "\n",
        "lista = [1, 2, 3, 3, 3, 4]\n",
        "print(remove_repetidos(lista))"
      ],
      "execution_count": null,
      "outputs": [
        {
          "output_type": "stream",
          "text": [
            "[1, 2, 3, 4]\n"
          ],
          "name": "stdout"
        }
      ]
    },
    {
      "cell_type": "markdown",
      "metadata": {
        "id": "fp7kKAUNDeH5"
      },
      "source": [
        "######Soma da Lista"
      ]
    },
    {
      "cell_type": "code",
      "metadata": {
        "colab": {
          "base_uri": "https://localhost:8080/"
        },
        "id": "pBJTCTIJWq6S",
        "outputId": "4cb51a35-ae48-4caa-f0af-56a0088463d8"
      },
      "source": [
        "def soma_elementos(lista):\n",
        "  soma = 0\n",
        "  for i in lista:\n",
        "    soma = soma + i\n",
        "\n",
        "  return soma\n",
        "\n",
        "\n",
        "lista = [2, 2, 3, 3]\n",
        "print(soma_elementos(lista))"
      ],
      "execution_count": null,
      "outputs": [
        {
          "output_type": "stream",
          "text": [
            "10\n"
          ],
          "name": "stdout"
        }
      ]
    },
    {
      "cell_type": "markdown",
      "metadata": {
        "id": "qiN-_NhLDjBf"
      },
      "source": [
        "######Maior Elemento"
      ]
    },
    {
      "cell_type": "code",
      "metadata": {
        "colab": {
          "base_uri": "https://localhost:8080/"
        },
        "id": "fo-T5dOTaNwZ",
        "outputId": "0aff6635-fe63-4452-a41e-40706546fb4f"
      },
      "source": [
        "def maior_elemento(lista):\n",
        "  maior = 0\n",
        "\n",
        "  for i in lista:\n",
        "    if i > maior:\n",
        "      maior = i\n",
        "\n",
        "  return maior\n",
        "\n",
        "\n",
        "lista = [1, 2, 3, 3, 3, 4, 10, 11, 25, 13, 4, 7]\n",
        "print(maior_elemento(lista))"
      ],
      "execution_count": null,
      "outputs": [
        {
          "output_type": "stream",
          "text": [
            "25\n"
          ],
          "name": "stdout"
        }
      ]
    },
    {
      "cell_type": "markdown",
      "metadata": {
        "id": "W0IpX5Jn9cnS"
      },
      "source": [
        "# Objetos na Memória\n",
        "\n",
        "---\n",
        "\n"
      ]
    },
    {
      "cell_type": "markdown",
      "metadata": {
        "id": "CDll4eitBsGJ"
      },
      "source": [
        "###Objetos e Referências"
      ]
    },
    {
      "cell_type": "code",
      "metadata": {
        "colab": {
          "base_uri": "https://localhost:8080/"
        },
        "id": "u6J-_OCS9h6h",
        "outputId": "d7b8f890-fb46-4a0f-b91d-e7bca42b5271"
      },
      "source": [
        "a = \"banana\"\n",
        "print(a)\n",
        "\n",
        "b = \"banana\"\n",
        "print(b)\n",
        "\n",
        "c = \"maça\"\n",
        "print(c)\n",
        "\n",
        "print(\"----------\")\n",
        "\n",
        "print(a is b)\n",
        "print(a is c)\n",
        "\n",
        "print(\"----------\")\n",
        "\n",
        "lista1 = [10, 20, 30]\n",
        "lista2 = [10, 20, 30]\n",
        "\n",
        "print(lista1 is lista2)\n",
        "print(lista1 == lista2)"
      ],
      "execution_count": null,
      "outputs": [
        {
          "output_type": "stream",
          "text": [
            "banana\n",
            "banana\n",
            "maça\n",
            "----------\n",
            "True\n",
            "False\n",
            "----------\n",
            "False\n",
            "False\n"
          ],
          "name": "stdout"
        }
      ]
    },
    {
      "cell_type": "markdown",
      "metadata": {
        "id": "DRS_sMJ9BwOb"
      },
      "source": [
        "###Repetições e Referências"
      ]
    },
    {
      "cell_type": "code",
      "metadata": {
        "colab": {
          "base_uri": "https://localhost:8080/"
        },
        "id": "ZXiAVRae-4KJ",
        "outputId": "cbc4f24d-3361-4685-c7a2-c781b6b4c190"
      },
      "source": [
        "orig_list = [45, 50, 55, 60]\n",
        "\n",
        "print(orig_list * 3) # a mesma lista com 3 vezes o tamanho\n",
        "print([orig_list] * 3) # 3 listas iguais\n",
        "\n",
        "print(\"----------\")\n",
        "\n",
        "new_list = [orig_list] * 3\n",
        "print(new_list)\n",
        "print()\n",
        "\n",
        "orig_list.append(100)\n",
        "print(orig_list)\n",
        "print(new_list)\n",
        "  # o new_list também muda porque ele se referência nas outras\n",
        "  # então, se um muda, os outros mudam em seguida"
      ],
      "execution_count": null,
      "outputs": [
        {
          "output_type": "stream",
          "text": [
            "[45, 50, 55, 60, 45, 50, 55, 60, 45, 50, 55, 60]\n",
            "[[45, 50, 55, 60], [45, 50, 55, 60], [45, 50, 55, 60]]\n",
            "----------\n",
            "[[45, 50, 55, 60], [45, 50, 55, 60], [45, 50, 55, 60]]\n",
            "\n",
            "[45, 50, 55, 60, 100]\n",
            "[[45, 50, 55, 60, 100], [45, 50, 55, 60, 100], [45, 50, 55, 60, 100]]\n"
          ],
          "name": "stdout"
        }
      ]
    },
    {
      "cell_type": "markdown",
      "metadata": {
        "id": "ja5o3L0YB0lJ"
      },
      "source": [
        "###Exemplo"
      ]
    },
    {
      "cell_type": "markdown",
      "metadata": {
        "id": "9g0GKEOVB4MX"
      },
      "source": [
        "######Temperaturas em um Mês"
      ]
    },
    {
      "cell_type": "code",
      "metadata": {
        "colab": {
          "base_uri": "https://localhost:8080/"
        },
        "id": "PuxSrpBRA8eL",
        "outputId": "a7366230-5451-43f7-ce4d-0fbfca458ad1"
      },
      "source": [
        "def min_max(temperatura):\n",
        "  print(\"A menor temperatura do mês foi:\", minima(temperatura), \"Celsius\")\n",
        "  print(\"A maior temperatura do mês foi:\", maxima(temperatura), \"Celsius\")\n",
        "\n",
        "def minima(temps):\n",
        "  menor = temps[0]\n",
        "  i = 0\n",
        "\n",
        "  while i < len(temps):\n",
        "    if temps[i] < menor:\n",
        "      menor = temps[i]\n",
        "\n",
        "    i += 1\n",
        "\n",
        "  return menor\n",
        "\n",
        "def maxima(temps):\n",
        "  maior = 0\n",
        "  i = 0\n",
        "\n",
        "  while i < len(temps):\n",
        "    if temps[i] > maior:\n",
        "      maior = temps[i]\n",
        "\n",
        "    i += 1\n",
        "\n",
        "  return maior\n",
        "\n",
        "# *** Testes de Erros ***\n",
        "def teste_pontual_minima(temp, valor_esperado):\n",
        "  valor_calculado = minima(temp)\n",
        "  if valor_calculado != valor_esperado:\n",
        "    print(\"Valor errado para array\", temp)\n",
        "    print(\"Valor esperado:\", valor_esperado, \"\\tValor calculado:\", valor_calculado)\n",
        "\n",
        "def teste_pontual_maxima(temp, valor_esperado):\n",
        "  valor_calculado = maxima(temp)\n",
        "  if valor_calculado != valor_esperado:\n",
        "    print(\"Valor errado para array\", temp)\n",
        "    print(\"Valor esperado:\", valor_esperado, \"\\tValor calculado:\", valor_calculado)\n",
        "\n",
        "def testa_minima():\n",
        "  print(\"Iniciando os testes...\")\n",
        "\n",
        "  teste_pontual_minima([0], 0)\n",
        "  teste_pontual_minima([0, 0, 0], 0)\n",
        "  teste_pontual_minima([0, 1, 2, 3], 0)\n",
        "  teste_pontual_minima([26, 19, 15, 27, 32, 33, 20], 15)\n",
        "  teste_pontual_minima([-3, -12, 15, 0, 20], -12)\n",
        "  \n",
        "  print(\"\\nFinalizando os testes.\")\n",
        "\n",
        "def testa_maxima():\n",
        "  print(\"Iniciando os testes...\")\n",
        "\n",
        "  teste_pontual_maxima([0], 0)\n",
        "  teste_pontual_maxima([0, 1, 0], 1)\n",
        "  teste_pontual_maxima([0, 1, 2, 3], 3)\n",
        "  teste_pontual_maxima([26, 19, 15, 27, 32, 33, 20], 33)\n",
        "  teste_pontual_maxima([-3, -12, 15, 0, 20], 20)\n",
        "  \n",
        "  print(\"\\nFinalizando os testes.\")\n",
        "\n",
        "\n",
        "testa_minima()\n",
        "testa_maxima()\n",
        "print()\n",
        "\n",
        "min_max([22, 21, 11, 21, 1, 22, 14, 17, 15])"
      ],
      "execution_count": null,
      "outputs": [
        {
          "output_type": "stream",
          "text": [
            "Iniciando os testes...\n",
            "\n",
            "Finalizando os testes.\n",
            "Iniciando os testes...\n",
            "\n",
            "Finalizando os testes.\n",
            "\n",
            "A menor temperatura do mês foi: 1 Celsius\n",
            "A maior temperatura do mês foi: 22 Celsius\n"
          ],
          "name": "stdout"
        }
      ]
    },
    {
      "cell_type": "markdown",
      "metadata": {
        "id": "VA7trNjKCDiT"
      },
      "source": [
        "#Exercício Final\n",
        "\n",
        "---"
      ]
    },
    {
      "cell_type": "markdown",
      "metadata": {
        "id": "AD82YFgWEw5j"
      },
      "source": [
        "###COH-PIAH"
      ]
    },
    {
      "cell_type": "code",
      "metadata": {
        "id": "0ZlpHQS6WU0a"
      },
      "source": [
        "import re\n",
        "\n",
        "def le_assinatura():\n",
        "    '''A funcao le os valores dos tracos linguisticos do modelo e devolve uma assinatura a ser comparada com os textos fornecidos'''\n",
        "    print(\"Bem-vindo ao detector automático de COH-PIAH.\\n\")\n",
        "\n",
        "    tamMedPalavra = float(input(\"Entre o tamanho medio de palavra: \"))\n",
        "    typeToken = float(input(\"Entre a relação Type-Token: \"))\n",
        "    hapaxLegomana = float(input(\"Entre a Razão Hapax Legomana: \"))\n",
        "    tamMedSentenca = float(input(\"Entre o tamanho médio de sentença: \"))\n",
        "    comMedSentenca = float(input(\"Entre a complexidade média da sentença: \"))\n",
        "    tamMedFrase = float(input(\"Entre o tamanho medio de frase: \"))\n",
        "\n",
        "    print()\n",
        "\n",
        "    return [tamMedPalavra, typeToken, hapaxLegomana, tamMedSentenca, comMedSentenca, tamMedFrase]\n",
        "\n",
        "def le_textos():\n",
        "    i = 1\n",
        "    textos = []\n",
        "    texto = input(\"Digite o texto \" + str(i) +\" (aperte enter para sair):\")\n",
        "    print()\n",
        "    while texto:\n",
        "        textos.append(texto)\n",
        "        i += 1\n",
        "        texto = input(\"Digite o texto \" + str(i) +\" (aperte enter para sair):\")\n",
        "        print()\n",
        "\n",
        "    return textos\n",
        "\n",
        "def separa_sentencas(texto):\n",
        "    '''A funcao recebe um texto e devolve uma lista das sentencas dentro do texto'''\n",
        "    sentencas = re.split(r'[.!?]+', texto)\n",
        "    if sentencas[-1] == '':\n",
        "        del sentencas[-1]\n",
        "    return sentencas\n",
        "\n",
        "def separa_frases(sentenca):\n",
        "    '''A funcao recebe uma sentenca e devolve uma lista das frases dentro da sentenca'''\n",
        "    return re.split(r'[,:;]+', sentenca)\n",
        "\n",
        "def separa_palavras(frase):\n",
        "    '''A funcao recebe uma frase e devolve uma lista das palavras dentro da frase'''\n",
        "    return frase.split()\n",
        "\n",
        "def n_palavras_unicas(lista_palavras):\n",
        "    '''Essa funcao recebe uma lista de palavras e devolve o numero de palavras que aparecem uma unica vez'''\n",
        "    freq = dict()\n",
        "    unicas = 0\n",
        "    for palavra in lista_palavras:\n",
        "        p = palavra.lower()\n",
        "        if p in freq:\n",
        "            if freq[p] == 1:\n",
        "                unicas -= 1\n",
        "            freq[p] += 1\n",
        "        else:\n",
        "            freq[p] = 1\n",
        "            unicas += 1\n",
        "\n",
        "    return unicas\n",
        "\n",
        "def n_palavras_diferentes(lista_palavras):\n",
        "    '''Essa funcao recebe uma lista de palavras e devolve o numero de palavras diferentes utilizadas'''\n",
        "    freq = dict()\n",
        "    for palavra in lista_palavras:\n",
        "        p = palavra.lower()\n",
        "        if p in freq:\n",
        "            freq[p] += 1\n",
        "        else:\n",
        "            freq[p] = 1\n",
        "\n",
        "    return len(freq)\n",
        "\n",
        "def compara_assinatura(as_a, as_b):    \n",
        "    somatorio = 0\n",
        "    for i in range(len(as_a)):\n",
        "        somatorio += abs(as_a[i] - as_b[i])\n",
        "\n",
        "    return somatorio / 6\n",
        "        \n",
        "\n",
        "def calcula_assinatura(texto):    \n",
        "    sentencas = separa_sentencas(texto)\n",
        "    num_sentencas = 0\n",
        "    soma_car_sentencas = 0\n",
        "\n",
        "    frases = []\n",
        "    for i in range(len(sentencas)):\n",
        "        frase_aux = separa_frases(sentencas[i])\n",
        "        frases.append(frase_aux)\n",
        "        num_sentencas += 1\n",
        "        soma_car_sentencas = soma_car_sentencas + len(sentencas[i])\n",
        "\n",
        "    palavras = []\n",
        "    num_frases = 0\n",
        "    soma_car_frases = 0\n",
        "    for linha in range(len(frases)):\n",
        "        for coluna in range(len(frases[linha])):\n",
        "            palavras_aux = separa_palavras(frases[linha][coluna])\n",
        "            palavras.append(palavras_aux)\n",
        "            num_frases += 1\n",
        "            soma_car_frases += len(frases[linha][coluna])\n",
        "\n",
        "    mtrx_para_lista = []\n",
        "    #COLOCA O QUE ESTÁ NA EM MATRIZ PARA UMA LISTA\n",
        "    for linha in range(len(palavras)):\n",
        "        for coluna in range(len(palavras[linha])):\n",
        "            mtrx_para_lista.append(palavras[linha][coluna])\n",
        "    palavras = mtrx_para_lista[:]\n",
        "\n",
        "    total_letras = 0\n",
        "    num_tot_palavras = len(palavras)\n",
        "    #CALCULA A QUANTIDADE DE LETRAS\n",
        "    for lin in range(len(palavras)):\n",
        "        for col in range(len(palavras[lin])):\n",
        "            total_letras = total_letras + len(str(palavras[lin][col]))\n",
        "    \n",
        "    tamMedPalavra = total_letras / num_tot_palavras\n",
        "    typeToken = n_palavras_diferentes(palavras) / num_tot_palavras\n",
        "    hapaxLegomana = n_palavras_unicas(palavras) / num_tot_palavras\n",
        "    tamMedSentenca = soma_car_sentencas / num_sentencas\n",
        "    comMedSentenca = num_frases / num_sentencas\n",
        "    tamMedFrase = soma_car_frases / num_frases\n",
        "    \n",
        "    return [tamMedPalavra, typeToken, hapaxLegomana, tamMedSentenca, comMedSentenca, tamMedFrase]\n",
        "\n",
        "\n",
        "\n",
        "def avalia_textos(textos, assinaturaMain):\n",
        "    '''IMPLEMENTAR. Essa funcao recebe uma lista de textos e deve devolver o numero (1 a n) do texto com maior probabilidade de ter sido infectado por COH-PIAH.'''\n",
        "\n",
        "    assinaturas = []\n",
        "    for i in textos:\n",
        "        assinaturas.append(calcula_assinatura(i))\n",
        "\n",
        "    similaridade = []\n",
        "    for i in assinaturas:\n",
        "        similaridade.append(compara_assinatura(assinaturaMain, i))\n",
        "\n",
        "    maior = similaridade[0]\n",
        "    posicao = 0\n",
        "    for i in range(len(similaridade)):        \n",
        "        if similaridade[i] > maior:\n",
        "            maior = similaridade[i]\n",
        "            posicao = i\n",
        "\n",
        "    return posicao\n",
        "\n",
        "'''Minhas funções'''\n",
        "def main():\n",
        "    assinaturaMain = le_assinatura()\n",
        "    textos = le_textos()\n",
        "    \n",
        "    return  print(\"O autor do texto \" , avalia_textos(textos, assinaturaMain), \" está infectado com COH-PIAH\")\n",
        "\n"
      ],
      "execution_count": null,
      "outputs": []
    },
    {
      "cell_type": "code",
      "metadata": {
        "colab": {
          "base_uri": "https://localhost:8080/"
        },
        "id": "zB9YiMlPSJiE",
        "outputId": "26ce8a6b-a77c-4c6e-ae8a-15d6059062cc"
      },
      "source": [
        "texto = 'Astronomia é uma ciência natural que estuda corpos celestes (como estrelas, planetas, cometas, nebulosas, aglomerados de estrelas, galáxias) e fenômenos que se originam fora da atmosfera da Terra (como a radiação cósmica de fundo em micro-ondas). Preocupada com a evolução, a física, a química e o movimento de objetos celestes, bem como a formação e o desenvolvimento do universo.'\n",
        "\n",
        "# separa o texto em palavras\n",
        "lista_texto = texto.split(' ')\n",
        "\n",
        "# cria as listas auxiliáres\n",
        "remover = []\n",
        "final = []\n",
        "\n",
        "print(lista_texto)\n",
        "print()\n",
        "\n",
        "# adiciona na lista \"remover\" as palavras que vão sair, menos a última\n",
        "x = 0\n",
        "for x in range(len(lista_texto)):\n",
        "  while lista_texto[x] == '(como':\n",
        "    while ')' not in lista_texto[x]:\n",
        "      remover.append(lista_texto[x])\n",
        "      x += 1\n",
        "\n",
        "# adiciona na lista \"remover\" a última palavra que não tinha sido adicionada\n",
        "x = 0\n",
        "for x in range(len(lista_texto)):\n",
        "  if ')' in lista_texto[x]:\n",
        "    remover.append(lista_texto[x])\n",
        "\n",
        "print(remover)\n",
        "print()\n",
        "\n",
        "# adiciona na lista \"final\" o texto da \"lista_texto\" sem as palavras da lista \"remover\"\n",
        "x = 0\n",
        "for x in range(len(lista_texto)):\n",
        "  if lista_texto[x] not in remover:\n",
        "    final.append(lista_texto[x])\n",
        "\n",
        "# faz a lista \"final\" voltar a ser um parágrafo\n",
        "final = ' '.join(final)\n",
        "print(final)\n",
        "print()"
      ],
      "execution_count": null,
      "outputs": [
        {
          "output_type": "stream",
          "text": [
            "['Astronomia', 'é', 'uma', 'ciência', 'natural', 'que', 'estuda', 'corpos', 'celestes', '(como', 'estrelas,', 'planetas,', 'cometas,', 'nebulosas,', 'aglomerados', 'de', 'estrelas,', 'galáxias)', 'e', 'fenômenos', 'que', 'se', 'originam', 'fora', 'da', 'atmosfera', 'da', 'Terra', '(como', 'a', 'radiação', 'cósmica', 'de', 'fundo', 'em', 'micro-ondas).', 'Preocupada', 'com', 'a', 'evolução,', 'a', 'física,', 'a', 'química', 'e', 'o', 'movimento', 'de', 'objetos', 'celestes,', 'bem', 'como', 'a', 'formação', 'e', 'o', 'desenvolvimento', 'do', 'universo.']\n",
            "\n",
            "['(como', 'estrelas,', 'planetas,', 'cometas,', 'nebulosas,', 'aglomerados', 'de', 'estrelas,', '(como', 'a', 'radiação', 'cósmica', 'de', 'fundo', 'em']\n",
            "\n",
            "Astronomia é uma ciência natural que estuda corpos celestes galáxias) e fenômenos que se originam fora da atmosfera da Terra micro-ondas). Preocupada com evolução, física, química e o movimento objetos celestes, bem como formação e o desenvolvimento do universo.\n",
            "\n"
          ],
          "name": "stdout"
        }
      ]
    }
  ]
}